{
 "cells": [
  {
   "cell_type": "code",
   "execution_count": 6,
   "metadata": {},
   "outputs": [],
   "source": [
    "import pandas as pd\n",
    "import matplotlib.pyplot as plt\n",
    "import plotly.express as px\n",
    "import seaborn as sns\n",
    "import plotly.graph_objs as go\n",
    "import numpy as np\n",
    "# import streamlit as st"
   ]
  },
  {
   "cell_type": "code",
   "execution_count": 7,
   "metadata": {},
   "outputs": [],
   "source": [
    "# Read the data\n",
    "data = pd.read_csv(\"wastedata.csv\")\n",
    "# pivot_table = data.pivot_table(index='Date', columns='Substream', values='Volume', aggfunc='sum')"
   ]
  },
  {
   "cell_type": "code",
   "execution_count": 24,
   "metadata": {},
   "outputs": [
    {
     "name": "stdout",
     "output_type": "stream",
     "text": [
      "<class 'pandas.core.frame.DataFrame'>\n",
      "RangeIndex: 521 entries, 0 to 520\n",
      "Data columns (total 7 columns):\n",
      " #   Column     Non-Null Count  Dtype  \n",
      "---  ------     --------------  -----  \n",
      " 0   Date       521 non-null    object \n",
      " 1   Building   521 non-null    object \n",
      " 2   Stream     521 non-null    object \n",
      " 3   Substream  521 non-null    object \n",
      " 4   Volume     487 non-null    float64\n",
      " 5   Weight     520 non-null    float64\n",
      " 6   Notes      370 non-null    object \n",
      "dtypes: float64(2), object(5)\n",
      "memory usage: 28.6+ KB\n"
     ]
    }
   ],
   "source": [
    "data.info()"
   ]
  },
  {
   "cell_type": "code",
   "execution_count": 16,
   "metadata": {},
   "outputs": [],
   "source": [
    "stream_column = data[\"Stream\"]"
   ]
  },
  {
   "cell_type": "code",
   "execution_count": 17,
   "metadata": {},
   "outputs": [],
   "source": [
    "# Remove empty or missing values\n",
    "stream_column = stream_column.dropna()"
   ]
  },
  {
   "cell_type": "code",
   "execution_count": 18,
   "metadata": {},
   "outputs": [],
   "source": [
    "# Create a set of unique streams\n",
    "unique_streams = set(stream_column)"
   ]
  },
  {
   "cell_type": "code",
   "execution_count": 19,
   "metadata": {},
   "outputs": [
    {
     "name": "stdout",
     "output_type": "stream",
     "text": [
      "Recycling in Landfill\n",
      "Recycling\n",
      "Reusables in Landfill\n",
      "Reusables in Recycling\n",
      "Reusables in Compost\n",
      "Compost in Recycling\n",
      "Landfill\n",
      "Landfill in Recycling\n",
      "Landfill in Compost\n",
      "Food Waste in Landfill\n",
      "Compost\n",
      "Recycling in Compost\n",
      "Compost in Landfill\n",
      "Food Waste in Recycling\n"
     ]
    }
   ],
   "source": [
    "for stream in unique_streams:\n",
    "    print(stream)"
   ]
  },
  {
   "cell_type": "code",
   "execution_count": 25,
   "metadata": {},
   "outputs": [
    {
     "name": "stdout",
     "output_type": "stream",
     "text": [
      "<class 'pandas.core.frame.DataFrame'>\n",
      "Int64Index: 521 entries, 0 to 756\n",
      "Data columns (total 7 columns):\n",
      " #   Column     Non-Null Count  Dtype  \n",
      "---  ------     --------------  -----  \n",
      " 0   Date       521 non-null    object \n",
      " 1   Building   521 non-null    object \n",
      " 2   Stream     521 non-null    object \n",
      " 3   Substream  521 non-null    object \n",
      " 4   Volume     487 non-null    float64\n",
      " 5   Weight     520 non-null    float64\n",
      " 6   Notes      370 non-null    object \n",
      "dtypes: float64(2), object(5)\n",
      "memory usage: 32.6+ KB\n"
     ]
    },
    {
     "name": "stderr",
     "output_type": "stream",
     "text": [
      "C:\\Users\\dhruv\\AppData\\Local\\Temp\\ipykernel_20948\\2850706148.py:8: SettingWithCopyWarning: \n",
      "A value is trying to be set on a copy of a slice from a DataFrame.\n",
      "Try using .loc[row_indexer,col_indexer] = value instead\n",
      "\n",
      "See the caveats in the documentation: https://pandas.pydata.org/pandas-docs/stable/user_guide/indexing.html#returning-a-view-versus-a-copy\n",
      "  filtered_data[\"Stream\"] = new_stream\n"
     ]
    }
   ],
   "source": [
    "# Create a new stream called \"misclassified_recycling\"\n",
    "new_stream = \"misclassified_recycling\"\n",
    "\n",
    "# Filter the data to include only \"Recycling in Landfill\" and \"Recycling in Compost\"\n",
    "filtered_data = data[data[\"Stream\"].isin([\"Recycling in Landfill\", \"Recycling in Compost\"])]\n",
    "\n",
    "# Change the stream values to \"misclassified_recycling\"\n",
    "filtered_data[\"Stream\"] = new_stream\n",
    "\n",
    "# Append the filtered data to the original data\n",
    "updated_data = pd.concat([data, filtered_data], ignore_index=True)\n",
    "\n",
    "# Remove \"Recycling in Landfill\" and \"Recycling in Compost\" from the data\n",
    "updated_data = updated_data[~updated_data[\"Stream\"].isin([\"Recycling in Landfill\", \"Recycling in Compost\"])]\n",
    "\n",
    "updated_data.info()"
   ]
  },
  {
   "cell_type": "code",
   "execution_count": 27,
   "metadata": {},
   "outputs": [
    {
     "name": "stderr",
     "output_type": "stream",
     "text": [
      "C:\\Users\\dhruv\\AppData\\Local\\Temp\\ipykernel_20948\\4262004596.py:7: SettingWithCopyWarning: \n",
      "A value is trying to be set on a copy of a slice from a DataFrame.\n",
      "Try using .loc[row_indexer,col_indexer] = value instead\n",
      "\n",
      "See the caveats in the documentation: https://pandas.pydata.org/pandas-docs/stable/user_guide/indexing.html#returning-a-view-versus-a-copy\n",
      "  filtered_data1[\"Stream\"] = new_stream1\n"
     ]
    }
   ],
   "source": [
    "new_stream1 = \"misclassified_reusables\"\n",
    "\n",
    "# Filter the data to include only \"Reusables in Landfill,\" \"Reusables in Compost,\" and \"Reusables in Recycling\"\n",
    "filtered_data1 = updated_data[updated_data[\"Stream\"].isin([\"Reusables in Landfill\", \"Reusables in Compost\", \"Reusables in Recycling\"])]\n",
    "\n",
    "# Change the stream values to \"misclassified_reusables\"\n",
    "filtered_data1[\"Stream\"] = new_stream1\n",
    "\n",
    "# Append the filtered data to the original data\n",
    "updated_data1 = pd.concat([updated_data, filtered_data1], ignore_index=True)\n",
    "\n",
    "# Remove \"Reusables in Landfill,\" \"Reusables in Compost,\" and \"Reusables in Recycling\" from the data\n",
    "updated_data1 = updated_data1[~updated_data1[\"Stream\"].isin([\"Reusables in Landfill\", \"Reusables in Compost\", \"Reusables in Recycling\"])]\n",
    "\n"
   ]
  },
  {
   "cell_type": "code",
   "execution_count": 28,
   "metadata": {},
   "outputs": [
    {
     "name": "stdout",
     "output_type": "stream",
     "text": [
      "<class 'pandas.core.frame.DataFrame'>\n",
      "Int64Index: 521 entries, 0 to 546\n",
      "Data columns (total 7 columns):\n",
      " #   Column     Non-Null Count  Dtype  \n",
      "---  ------     --------------  -----  \n",
      " 0   Date       521 non-null    object \n",
      " 1   Building   521 non-null    object \n",
      " 2   Stream     521 non-null    object \n",
      " 3   Substream  521 non-null    object \n",
      " 4   Volume     487 non-null    float64\n",
      " 5   Weight     520 non-null    float64\n",
      " 6   Notes      370 non-null    object \n",
      "dtypes: float64(2), object(5)\n",
      "memory usage: 32.6+ KB\n"
     ]
    }
   ],
   "source": [
    "updated_data1.info()"
   ]
  },
  {
   "cell_type": "code",
   "execution_count": 9,
   "metadata": {},
   "outputs": [
    {
     "name": "stdout",
     "output_type": "stream",
     "text": [
      "0      1.206060\n",
      "1      1.206060\n",
      "2      1.206060\n",
      "3      0.370358\n",
      "4      1.006093\n",
      "         ...   \n",
      "516    1.206060\n",
      "517    1.206060\n",
      "518    0.637401\n",
      "519    1.251888\n",
      "520    1.251888\n",
      "Name: Volume, Length: 521, dtype: float64\n"
     ]
    }
   ],
   "source": [
    "z_scores = np.abs((data['Volume'] - data['Volume'].mean()) / data['Volume'].std())\n",
    "print(z_scores)"
   ]
  },
  {
   "cell_type": "code",
   "execution_count": 13,
   "metadata": {},
   "outputs": [
    {
     "name": "stdout",
     "output_type": "stream",
     "text": [
      "<class 'pandas.core.frame.DataFrame'>\n",
      "Int64Index: 515 entries, 0 to 520\n",
      "Data columns (total 7 columns):\n",
      " #   Column     Non-Null Count  Dtype  \n",
      "---  ------     --------------  -----  \n",
      " 0   Date       515 non-null    object \n",
      " 1   Building   515 non-null    object \n",
      " 2   Stream     515 non-null    object \n",
      " 3   Substream  515 non-null    object \n",
      " 4   Volume     481 non-null    float64\n",
      " 5   Weight     514 non-null    float64\n",
      " 6   Notes      364 non-null    object \n",
      "dtypes: float64(2), object(5)\n",
      "memory usage: 32.2+ KB\n"
     ]
    }
   ],
   "source": [
    "outliers = z_scores > 2\n",
    "# print(outliers)\n",
    "data_cleaned = data[~outliers]\n",
    "data_cleaned.info()"
   ]
  },
  {
   "cell_type": "code",
   "execution_count": 3,
   "metadata": {},
   "outputs": [
    {
     "data": {
      "image/png": "[encoded data removed]",
      "text/plain": [
       "<Figure size 1200x600 with 1 Axes>"
      ]
     },
     "metadata": {},
     "output_type": "display_data"
    }
   ],
   "source": [
    "# Time series plot\n",
    "plt.figure(figsize=(12, 6))\n",
    "sns.lineplot(x='Date', y='Volume', data=data, hue='Stream')\n",
    "plt.title('Waste Volume Over Time')\n",
    "plt.xlabel('Date')\n",
    "plt.ylabel('Volume')\n",
    "plt.xticks(rotation=45)\n",
    "plt.show()\n"
   ]
  },
  {
   "cell_type": "code",
   "execution_count": 4,
   "metadata": {},
   "outputs": [
    {
     "name": "stderr",
     "output_type": "stream",
     "text": [
      "/tmp/ipykernel_24733/340568292.py:2: FutureWarning: The default value of numeric_only in DataFrameGroupBy.sum is deprecated. In a future version, numeric_only will default to False. Either specify numeric_only or select only columns which should be valid for the function.\n",
      "  treemap_data = data.groupby(['Building', 'Stream']).sum()['Volume'].reset_index()\n"
     ]
    },
    {
     "data": {
      "application/vnd.plotly.v1+json": {
       "config": {
        "plotlyServerURL": "https://plot.ly"
       },
       "data": [
        {
         "branchvalues": "total",
         "domain": {
          "x": [
           0,
           1
          ],
          "y": [
           0,
           1
          ]
         },
         "hovertemplate": "labels=%{label}<br>Volume=%{value}<br>parent=%{parent}<br>id=%{id}<extra></extra>",
         "ids": [
          "Benson Center/Compost",
          "Facilities/Compost",
          "Malley/Compost",
          "Benson Center/Compost in Landfill",
          "Facilities/Compost in Landfill",
          "Graham/Compost in Landfill",
          "Learning Commons/Compost in Landfill",
          "Malley/Compost in Landfill",
          "Swig/Compost in Landfill",
          "University Villas/Compost in Landfill",
          "Vari Hall and Lucas Hall/Compost in Landfill",
          "Benson Center/Compost in Recycling",
          "Facilities/Compost in Recycling",
          "Learning Commons/Compost in Recycling",
          "Malley/Compost in Recycling",
          "Learning Commons/Food Waste in Landfill",
          "Learning Commons/Food Waste in Recycling",
          "Benson Center/Landfill",
          "Facilities/Landfill",
          "Graham/Landfill",
          "Learning Commons/Landfill",
          "Malley/Landfill",
          "Swig/Landfill",
          "University Villas/Landfill",
          "Vari Hall and Lucas Hall/Landfill",
          "Benson Center/Landfill in Compost",
          "Facilities/Landfill in Compost",
          "Malley/Landfill in Compost",
          "Benson Center/Landfill in Recycling",
          "Facilities/Landfill in Recycling",
          "Learning Commons/Landfill in Recycling",
          "Malley/Landfill in Recycling",
          "Benson Center/Recycling",
          "Facilities/Recycling",
          "Learning Commons/Recycling",
          "Malley/Recycling",
          "Benson Center/Recycling in Compost",
          "Facilities/Recycling in Compost",
          "Malley/Recycling in Compost",
          "Benson Center/Recycling in Landfill",
          "Facilities/Recycling in Landfill",
          "Graham/Recycling in Landfill",
          "Learning Commons/Recycling in Landfill",
          "Malley/Recycling in Landfill",
          "Swig/Recycling in Landfill",
          "University Villas/Recycling in Landfill",
          "Vari Hall and Lucas Hall/Recycling in Landfill",
          "Benson Center/Reusables in Compost",
          "Malley/Reusables in Compost",
          "Benson Center/Reusables in Landfill",
          "Facilities/Reusables in Landfill",
          "Graham/Reusables in Landfill",
          "Malley/Reusables in Landfill",
          "Swig/Reusables in Landfill",
          "University Villas/Reusables in Landfill",
          "Vari Hall and Lucas Hall/Reusables in Landfill",
          "Benson Center/Reusables in Recycling",
          "Malley/Reusables in Recycling",
          "Benson Center",
          "Facilities",
          "Graham",
          "Learning Commons",
          "Malley",
          "Swig",
          "University Villas",
          "Vari Hall and Lucas Hall"
         ],
         "labels": [
          "Compost",
          "Compost",
          "Compost",
          "Compost in Landfill",
          "Compost in Landfill",
          "Compost in Landfill",
          "Compost in Landfill",
          "Compost in Landfill",
          "Compost in Landfill",
          "Compost in Landfill",
          "Compost in Landfill",
          "Compost in Recycling",
          "Compost in Recycling",
          "Compost in Recycling",
          "Compost in Recycling",
          "Food Waste in Landfill",
          "Food Waste in Recycling",
          "Landfill",
          "Landfill",
          "Landfill",
          "Landfill",
          "Landfill",
          "Landfill",
          "Landfill",
          "Landfill",
          "Landfill in Compost",
          "Landfill in Compost",
          "Landfill in Compost",
          "Landfill in Recycling",
          "Landfill in Recycling",
          "Landfill in Recycling",
          "Landfill in Recycling",
          "Recycling",
          "Recycling",
          "Recycling",
          "Recycling",
          "Recycling in Compost",
          "Recycling in Compost",
          "Recycling in Compost",
          "Recycling in Landfill",
          "Recycling in Landfill",
          "Recycling in Landfill",
          "Recycling in Landfill",
          "Recycling in Landfill",
          "Recycling in Landfill",
          "Recycling in Landfill",
          "Recycling in Landfill",
          "Reusables in Compost",
          "Reusables in Compost",
          "Reusables in Landfill",
          "Reusables in Landfill",
          "Reusables in Landfill",
          "Reusables in Landfill",
          "Reusables in Landfill",
          "Reusables in Landfill",
          "Reusables in Landfill",
          "Reusables in Recycling",
          "Reusables in Recycling",
          "Benson Center",
          "Facilities",
          "Graham",
          "Learning Commons",
          "Malley",
          "Swig",
          "University Villas",
          "Vari Hall and Lucas Hall"
         ],
         "name": "",
         "parents": [
          "Benson Center",
          "Facilities",
          "Malley",
          "Benson Center",
          "Facilities",
          "Graham",
          "Learning Commons",
          "Malley",
          "Swig",
          "University Villas",
          "Vari Hall and Lucas Hall",
          "Benson Center",
          "Facilities",
          "Learning Commons",
          "Malley",
          "Learning Commons",
          "Learning Commons",
          "Benson Center",
          "Facilities",
          "Graham",
          "Learning Commons",
          "Malley",
          "Swig",
          "University Villas",
          "Vari Hall and Lucas Hall",
          "Benson Center",
          "Facilities",
          "Malley",
          "Benson Center",
          "Facilities",
          "Learning Commons",
          "Malley",
          "Benson Center",
          "Facilities",
          "Learning Commons",
          "Malley",
          "Benson Center",
          "Facilities",
          "Malley",
          "Benson Center",
          "Facilities",
          "Graham",
          "Learning Commons",
          "Malley",
          "Swig",
          "University Villas",
          "Vari Hall and Lucas Hall",
          "Benson Center",
          "Malley",
          "Benson Center",
          "Facilities",
          "Graham",
          "Malley",
          "Swig",
          "University Villas",
          "Vari Hall and Lucas Hall",
          "Benson Center",
          "Malley",
          "",
          "",
          "",
          "",
          "",
          "",
          "",
          ""
         ],
         "type": "treemap",
         "values": [
          1.42,
          1.75,
          5.6,
          17.91,
          2.05,
          7.45,
          0,
          9.03,
          5.83,
          6.24,
          8.38,
          1.01,
          0.76,
          0,
          3.2800000000000002,
          0,
          0,
          5.55,
          1.4300000000000002,
          3.18,
          0,
          4.3,
          3.88,
          2.6,
          5.95,
          0.01,
          0.11,
          0.43000000000000005,
          0.34,
          0.75,
          0,
          0.99,
          12.84,
          7.3100000000000005,
          0,
          19.68,
          0.04,
          0.33999999999999997,
          1.4000000000000001,
          36.44,
          4.6,
          12.82,
          0,
          8,
          15.55,
          13.34,
          9.18,
          0.01,
          0.1,
          1.79,
          0.5,
          1.08,
          0.86,
          0.5,
          0.13,
          0.4,
          0.5,
          0.4,
          77.86,
          19.6,
          24.53,
          0,
          54.07,
          25.76,
          22.31,
          23.91
         ]
        }
       ],
       "layout": {
        "legend": {
         "tracegroupgap": 0
        },
        "margin": {
         "t": 60
        },
        "template": {
         "data": {
          "bar": [
           {
            "error_x": {
             "color": "#2a3f5f"
            },
            "error_y": {
             "color": "#2a3f5f"
            },
            "marker": {
             "line": {
              "color": "#E5ECF6",
              "width": 0.5
             },
             "pattern": {
              "fillmode": "overlay",
              "size": 10,
              "solidity": 0.2
             }
            },
            "type": "bar"
           }
          ],
          "barpolar": [
           {
            "marker": {
             "line": {
              "color": "#E5ECF6",
              "width": 0.5
             },
             "pattern": {
              "fillmode": "overlay",
              "size": 10,
              "solidity": 0.2
             }
            },
            "type": "barpolar"
           }
          ],
          "carpet": [
           {
            "aaxis": {
             "endlinecolor": "#2a3f5f",
             "gridcolor": "white",
             "linecolor": "white",
             "minorgridcolor": "white",
             "startlinecolor": "#2a3f5f"
            },
            "baxis": {
             "endlinecolor": "#2a3f5f",
             "gridcolor": "white",
             "linecolor": "white",
             "minorgridcolor": "white",
             "startlinecolor": "#2a3f5f"
            },
            "type": "carpet"
           }
          ],
          "choropleth": [
           {
            "colorbar": {
             "outlinewidth": 0,
             "ticks": ""
            },
            "type": "choropleth"
           }
          ],
          "contour": [
           {
            "colorbar": {
             "outlinewidth": 0,
             "ticks": ""
            },
            "colorscale": [
             [
              0,
              "#0d0887"
             ],
             [
              0.1111111111111111,
              "#46039f"
             ],
             [
              0.2222222222222222,
              "#7201a8"
             ],
             [
              0.3333333333333333,
              "#9c179e"
             ],
             [
              0.4444444444444444,
              "#bd3786"
             ],
             [
              0.5555555555555556,
              "#d8576b"
             ],
             [
              0.6666666666666666,
              "#ed7953"
             ],
             [
              0.7777777777777778,
              "#fb9f3a"
             ],
             [
              0.8888888888888888,
              "#fdca26"
             ],
             [
              1,
              "#f0f921"
             ]
            ],
            "type": "contour"
           }
          ],
          "contourcarpet": [
           {
            "colorbar": {
             "outlinewidth": 0,
             "ticks": ""
            },
            "type": "contourcarpet"
           }
          ],
          "heatmap": [
           {
            "colorbar": {
             "outlinewidth": 0,
             "ticks": ""
            },
            "colorscale": [
             [
              0,
              "#0d0887"
             ],
             [
              0.1111111111111111,
              "#46039f"
             ],
             [
              0.2222222222222222,
              "#7201a8"
             ],
             [
              0.3333333333333333,
              "#9c179e"
             ],
             [
              0.4444444444444444,
              "#bd3786"
             ],
             [
              0.5555555555555556,
              "#d8576b"
             ],
             [
              0.6666666666666666,
              "#ed7953"
             ],
             [
              0.7777777777777778,
              "#fb9f3a"
             ],
             [
              0.8888888888888888,
              "#fdca26"
             ],
             [
              1,
              "#f0f921"
             ]
            ],
            "type": "heatmap"
           }
          ],
          "heatmapgl": [
           {
            "colorbar": {
             "outlinewidth": 0,
             "ticks": ""
            },
            "colorscale": [
             [
              0,
              "#0d0887"
             ],
             [
              0.1111111111111111,
              "#46039f"
             ],
             [
              0.2222222222222222,
              "#7201a8"
             ],
             [
              0.3333333333333333,
              "#9c179e"
             ],
             [
              0.4444444444444444,
              "#bd3786"
             ],
             [
              0.5555555555555556,
              "#d8576b"
             ],
             [
              0.6666666666666666,
              "#ed7953"
             ],
             [
              0.7777777777777778,
              "#fb9f3a"
             ],
             [
              0.8888888888888888,
              "#fdca26"
             ],
             [
              1,
              "#f0f921"
             ]
            ],
            "type": "heatmapgl"
           }
          ],
          "histogram": [
           {
            "marker": {
             "pattern": {
              "fillmode": "overlay",
              "size": 10,
              "solidity": 0.2
             }
            },
            "type": "histogram"
           }
          ],
          "histogram2d": [
           {
            "colorbar": {
             "outlinewidth": 0,
             "ticks": ""
            },
            "colorscale": [
             [
              0,
              "#0d0887"
             ],
             [
              0.1111111111111111,
              "#46039f"
             ],
             [
              0.2222222222222222,
              "#7201a8"
             ],
             [
              0.3333333333333333,
              "#9c179e"
             ],
             [
              0.4444444444444444,
              "#bd3786"
             ],
             [
              0.5555555555555556,
              "#d8576b"
             ],
             [
              0.6666666666666666,
              "#ed7953"
             ],
             [
              0.7777777777777778,
              "#fb9f3a"
             ],
             [
              0.8888888888888888,
              "#fdca26"
             ],
             [
              1,
              "#f0f921"
             ]
            ],
            "type": "histogram2d"
           }
          ],
          "histogram2dcontour": [
           {
            "colorbar": {
             "outlinewidth": 0,
             "ticks": ""
            },
            "colorscale": [
             [
              0,
              "#0d0887"
             ],
             [
              0.1111111111111111,
              "#46039f"
             ],
             [
              0.2222222222222222,
              "#7201a8"
             ],
             [
              0.3333333333333333,
              "#9c179e"
             ],
             [
              0.4444444444444444,
              "#bd3786"
             ],
             [
              0.5555555555555556,
              "#d8576b"
             ],
             [
              0.6666666666666666,
              "#ed7953"
             ],
             [
              0.7777777777777778,
              "#fb9f3a"
             ],
             [
              0.8888888888888888,
              "#fdca26"
             ],
             [
              1,
              "#f0f921"
             ]
            ],
            "type": "histogram2dcontour"
           }
          ],
          "mesh3d": [
           {
            "colorbar": {
             "outlinewidth": 0,
             "ticks": ""
            },
            "type": "mesh3d"
           }
          ],
          "parcoords": [
           {
            "line": {
             "colorbar": {
              "outlinewidth": 0,
              "ticks": ""
             }
            },
            "type": "parcoords"
           }
          ],
          "pie": [
           {
            "automargin": true,
            "type": "pie"
           }
          ],
          "scatter": [
           {
            "fillpattern": {
             "fillmode": "overlay",
             "size": 10,
             "solidity": 0.2
            },
            "type": "scatter"
           }
          ],
          "scatter3d": [
           {
            "line": {
             "colorbar": {
              "outlinewidth": 0,
              "ticks": ""
             }
            },
            "marker": {
             "colorbar": {
              "outlinewidth": 0,
              "ticks": ""
             }
            },
            "type": "scatter3d"
           }
          ],
          "scattercarpet": [
           {
            "marker": {
             "colorbar": {
              "outlinewidth": 0,
              "ticks": ""
             }
            },
            "type": "scattercarpet"
           }
          ],
          "scattergeo": [
           {
            "marker": {
             "colorbar": {
              "outlinewidth": 0,
              "ticks": ""
             }
            },
            "type": "scattergeo"
           }
          ],
          "scattergl": [
           {
            "marker": {
             "colorbar": {
              "outlinewidth": 0,
              "ticks": ""
             }
            },
            "type": "scattergl"
           }
          ],
          "scattermapbox": [
           {
            "marker": {
             "colorbar": {
              "outlinewidth": 0,
              "ticks": ""
             }
            },
            "type": "scattermapbox"
           }
          ],
          "scatterpolar": [
           {
            "marker": {
             "colorbar": {
              "outlinewidth": 0,
              "ticks": ""
             }
            },
            "type": "scatterpolar"
           }
          ],
          "scatterpolargl": [
           {
            "marker": {
             "colorbar": {
              "outlinewidth": 0,
              "ticks": ""
             }
            },
            "type": "scatterpolargl"
           }
          ],
          "scatterternary": [
           {
            "marker": {
             "colorbar": {
              "outlinewidth": 0,
              "ticks": ""
             }
            },
            "type": "scatterternary"
           }
          ],
          "surface": [
           {
            "colorbar": {
             "outlinewidth": 0,
             "ticks": ""
            },
            "colorscale": [
             [
              0,
              "#0d0887"
             ],
             [
              0.1111111111111111,
              "#46039f"
             ],
             [
              0.2222222222222222,
              "#7201a8"
             ],
             [
              0.3333333333333333,
              "#9c179e"
             ],
             [
              0.4444444444444444,
              "#bd3786"
             ],
             [
              0.5555555555555556,
              "#d8576b"
             ],
             [
              0.6666666666666666,
              "#ed7953"
             ],
             [
              0.7777777777777778,
              "#fb9f3a"
             ],
             [
              0.8888888888888888,
              "#fdca26"
             ],
             [
              1,
              "#f0f921"
             ]
            ],
            "type": "surface"
           }
          ],
          "table": [
           {
            "cells": {
             "fill": {
              "color": "#EBF0F8"
             },
             "line": {
              "color": "white"
             }
            },
            "header": {
             "fill": {
              "color": "#C8D4E3"
             },
             "line": {
              "color": "white"
             }
            },
            "type": "table"
           }
          ]
         },
         "layout": {
          "annotationdefaults": {
           "arrowcolor": "#2a3f5f",
           "arrowhead": 0,
           "arrowwidth": 1
          },
          "autotypenumbers": "strict",
          "coloraxis": {
           "colorbar": {
            "outlinewidth": 0,
            "ticks": ""
           }
          },
          "colorscale": {
           "diverging": [
            [
             0,
             "#8e0152"
            ],
            [
             0.1,
             "#c51b7d"
            ],
            [
             0.2,
             "#de77ae"
            ],
            [
             0.3,
             "#f1b6da"
            ],
            [
             0.4,
             "#fde0ef"
            ],
            [
             0.5,
             "#f7f7f7"
            ],
            [
             0.6,
             "#e6f5d0"
            ],
            [
             0.7,
             "#b8e186"
            ],
            [
             0.8,
             "#7fbc41"
            ],
            [
             0.9,
             "#4d9221"
            ],
            [
             1,
             "#276419"
            ]
           ],
           "sequential": [
            [
             0,
             "#0d0887"
            ],
            [
             0.1111111111111111,
             "#46039f"
            ],
            [
             0.2222222222222222,
             "#7201a8"
            ],
            [
             0.3333333333333333,
             "#9c179e"
            ],
            [
             0.4444444444444444,
             "#bd3786"
            ],
            [
             0.5555555555555556,
             "#d8576b"
            ],
            [
             0.6666666666666666,
             "#ed7953"
            ],
            [
             0.7777777777777778,
             "#fb9f3a"
            ],
            [
             0.8888888888888888,
             "#fdca26"
            ],
            [
             1,
             "#f0f921"
            ]
           ],
           "sequentialminus": [
            [
             0,
             "#0d0887"
            ],
            [
             0.1111111111111111,
             "#46039f"
            ],
            [
             0.2222222222222222,
             "#7201a8"
            ],
            [
             0.3333333333333333,
             "#9c179e"
            ],
            [
             0.4444444444444444,
             "#bd3786"
            ],
            [
             0.5555555555555556,
             "#d8576b"
            ],
            [
             0.6666666666666666,
             "#ed7953"
            ],
            [
             0.7777777777777778,
             "#fb9f3a"
            ],
            [
             0.8888888888888888,
             "#fdca26"
            ],
            [
             1,
             "#f0f921"
            ]
           ]
          },
          "colorway": [
           "#636efa",
           "#EF553B",
           "#00cc96",
           "#ab63fa",
           "#FFA15A",
           "#19d3f3",
           "#FF6692",
           "#B6E880",
           "#FF97FF",
           "#FECB52"
          ],
          "font": {
           "color": "#2a3f5f"
          },
          "geo": {
           "bgcolor": "white",
           "lakecolor": "white",
           "landcolor": "#E5ECF6",
           "showlakes": true,
           "showland": true,
           "subunitcolor": "white"
          },
          "hoverlabel": {
           "align": "left"
          },
          "hovermode": "closest",
          "mapbox": {
           "style": "light"
          },
          "paper_bgcolor": "white",
          "plot_bgcolor": "#E5ECF6",
          "polar": {
           "angularaxis": {
            "gridcolor": "white",
            "linecolor": "white",
            "ticks": ""
           },
           "bgcolor": "#E5ECF6",
           "radialaxis": {
            "gridcolor": "white",
            "linecolor": "white",
            "ticks": ""
           }
          },
          "scene": {
           "xaxis": {
            "backgroundcolor": "#E5ECF6",
            "gridcolor": "white",
            "gridwidth": 2,
            "linecolor": "white",
            "showbackground": true,
            "ticks": "",
            "zerolinecolor": "white"
           },
           "yaxis": {
            "backgroundcolor": "#E5ECF6",
            "gridcolor": "white",
            "gridwidth": 2,
            "linecolor": "white",
            "showbackground": true,
            "ticks": "",
            "zerolinecolor": "white"
           },
           "zaxis": {
            "backgroundcolor": "#E5ECF6",
            "gridcolor": "white",
            "gridwidth": 2,
            "linecolor": "white",
            "showbackground": true,
            "ticks": "",
            "zerolinecolor": "white"
           }
          },
          "shapedefaults": {
           "line": {
            "color": "#2a3f5f"
           }
          },
          "ternary": {
           "aaxis": {
            "gridcolor": "white",
            "linecolor": "white",
            "ticks": ""
           },
           "baxis": {
            "gridcolor": "white",
            "linecolor": "white",
            "ticks": ""
           },
           "bgcolor": "#E5ECF6",
           "caxis": {
            "gridcolor": "white",
            "linecolor": "white",
            "ticks": ""
           }
          },
          "title": {
           "x": 0.05
          },
          "xaxis": {
           "automargin": true,
           "gridcolor": "white",
           "linecolor": "white",
           "ticks": "",
           "title": {
            "standoff": 15
           },
           "zerolinecolor": "white",
           "zerolinewidth": 2
          },
          "yaxis": {
           "automargin": true,
           "gridcolor": "white",
           "linecolor": "white",
           "ticks": "",
           "title": {
            "standoff": 15
           },
           "zerolinecolor": "white",
           "zerolinewidth": 2
          }
         }
        },
        "title": {
         "text": "Waste Volume by Building and Stream"
        }
       }
      }
     },
     "metadata": {},
     "output_type": "display_data"
    }
   ],
   "source": [
    "# Treemap\n",
    "treemap_data = data.groupby(['Building', 'Stream']).sum()['Volume'].reset_index()\n",
    "fig = px.treemap(treemap_data, path=['Building', 'Stream'], values='Volume')\n",
    "fig.update_layout(title='Waste Volume by Building and Stream')\n",
    "fig.show()"
   ]
  },
  {
   "cell_type": "code",
   "execution_count": 7,
   "metadata": {},
   "outputs": [
    {
     "name": "stderr",
     "output_type": "stream",
     "text": [
      "/tmp/ipykernel_24733/3678239576.py:2: FutureWarning:\n",
      "\n",
      "The default value of numeric_only in DataFrameGroupBy.sum is deprecated. In a future version, numeric_only will default to False. Either specify numeric_only or select only columns which should be valid for the function.\n",
      "\n"
     ]
    },
    {
     "data": {
      "application/vnd.plotly.v1+json": {
       "config": {
        "plotlyServerURL": "https://plot.ly"
       },
       "data": [
        {
         "link": {
          "source": [
           "Compost",
           "Compost",
           "Compost",
           "Compost",
           "Compost in Landfill",
           "Compost in Landfill",
           "Compost in Landfill",
           "Compost in Landfill",
           "Compost in Landfill",
           "Compost in Landfill",
           "Compost in Landfill",
           "Compost in Landfill",
           "Compost in Landfill",
           "Compost in Landfill",
           "Compost in Recycling",
           "Compost in Recycling",
           "Compost in Recycling",
           "Compost in Recycling",
           "Compost in Recycling",
           "Food Waste in Landfill",
           "Food Waste in Recycling",
           "Landfill",
           "Landfill",
           "Landfill",
           "Landfill",
           "Landfill",
           "Landfill in Compost",
           "Landfill in Recycling",
           "Landfill in Recycling",
           "Landfill in Recycling",
           "Recycling",
           "Recycling",
           "Recycling",
           "Recycling",
           "Recycling",
           "Recycling",
           "Recycling",
           "Recycling",
           "Recycling",
           "Recycling",
           "Recycling",
           "Recycling",
           "Recycling",
           "Recycling",
           "Recycling",
           "Recycling",
           "Recycling",
           "Recycling",
           "Recycling",
           "Recycling",
           "Recycling in Compost",
           "Recycling in Compost",
           "Recycling in Compost",
           "Recycling in Compost",
           "Recycling in Compost",
           "Recycling in Compost",
           "Recycling in Compost",
           "Recycling in Compost",
           "Recycling in Compost",
           "Recycling in Compost",
           "Recycling in Compost",
           "Recycling in Compost",
           "Recycling in Compost",
           "Recycling in Landfill",
           "Recycling in Landfill",
           "Recycling in Landfill",
           "Recycling in Landfill",
           "Recycling in Landfill",
           "Recycling in Landfill",
           "Recycling in Landfill",
           "Recycling in Landfill",
           "Recycling in Landfill",
           "Recycling in Landfill",
           "Recycling in Landfill",
           "Recycling in Landfill",
           "Recycling in Landfill",
           "Recycling in Landfill",
           "Recycling in Landfill",
           "Recycling in Landfill",
           "Recycling in Landfill",
           "Recycling in Landfill",
           "Recycling in Landfill",
           "Recycling in Landfill",
           "Recycling in Landfill",
           "Recycling in Landfill",
           "Recycling in Landfill",
           "Recycling in Landfill",
           "Recycling in Landfill",
           "Reusables in Compost",
           "Reusables in Compost",
           "Reusables in Landfill",
           "Reusables in Landfill",
           "Reusables in Recycling",
           "Reusables in Recycling"
          ],
          "target": [
           "Compostable Food Containers",
           "Misc. Meal Waste",
           "Paper Towels",
           "paper towels",
           "BPI Certified Compostable To-Go Ware",
           "Compostable Dining Waste (non-edible)",
           "Compostable Food Containers",
           "Food Waste (edible)",
           "Food/Organic Waste",
           "Misc. Meal Waste",
           "Napkins/Paper Towels",
           "Paper Towels",
           "SCU Coffee Cups",
           "paper towels",
           "Compostable Dining Waste (non-edible)",
           "Compostable Food Containers",
           "Misc. Meal Waste",
           "Paper Towels",
           "paper towels",
           "Food Waste (edible)",
           "Food Waste (edible)",
           "Misc. Landfill",
           "Non-SCU Coffee Cups",
           "Other Landfill",
           "Styrofoam",
           "styrofoam",
           "Other Landfill",
           "Other Landfill",
           "Reusables",
           "Styrofoam",
           "Aseptic Containers",
           "Cardboard",
           "Compostable Food Containers",
           "Const/Demo Waste",
           "Glass",
           "Metal",
           "Non-SCU Coffee Cups",
           "Paper",
           "Paperboard Rolls",
           "Plastic 1-7",
           "Plastic Film",
           "SCU Coffee Cups",
           "Terracycle",
           "aseptic containers",
           "cardboard",
           "glass",
           "metal",
           "paper",
           "paperboard rolls",
           "terracycle",
           "E-/Universal Waste",
           "Metal",
           "Paper",
           "Paperboard Rolls",
           "Plastic 1-7",
           "Plastic Film",
           "Terracycle",
           "aseptic containers",
           "cardboard",
           "glass",
           "paper",
           "paperboard rolls",
           "terracycle",
           "Aseptic Containers",
           "Aseptic/Tetra-Pak",
           "Cardboard",
           "Const/Demo Waste",
           "E-/Universal Waste",
           "Electronic & Universal Waste",
           "Film Plastic",
           "Glass",
           "Metal",
           "Metal & Aluminum",
           "Paper",
           "Paperboard",
           "Paperboard Rolls",
           "Plastic 1-7",
           "Plastic Film",
           "Plastics #1-7",
           "Terracycle",
           "aseptic containers",
           "cardboard",
           "glass",
           "metal",
           "paper",
           "paper towels",
           "paperboard rolls",
           "terracycle",
           "Reusables",
           "reusables",
           "Reusables",
           "reusables",
           "Reusables",
           "reusables"
          ],
          "value": [
           2.58,
           0.46,
           3.75,
           1.98,
           0.7,
           1.5,
           26.77,
           0.3,
           0.5,
           8.77,
           0.3,
           9.3,
           0.75,
           8,
           0,
           2.08,
           0.39,
           0.66,
           1.92,
           0,
           0,
           2.5,
           0.75,
           22.98,
           0.56,
           0.1,
           0.55,
           1.9300000000000002,
           0.1,
           0.05,
           0.1,
           4,
           0,
           0,
           0.15,
           0.5800000000000001,
           0,
           2.16,
           0.25,
           12.1,
           5,
           0,
           0.1,
           0.30000000000000004,
           9.6,
           0.63,
           1.1600000000000001,
           3.25,
           0.14,
           0.31000000000000005,
           0.01,
           0.15000000000000002,
           0.15000000000000002,
           0.05,
           0.43000000000000005,
           0.33,
           0.05,
           0.1,
           0.1,
           0.1,
           0.11,
           0.1,
           0.1,
           0.51,
           0,
           7.13,
           0.72,
           0.99,
           0,
           0.5,
           1.44,
           2.25,
           0.5,
           12.65,
           1,
           0.9400000000000001,
           24.62,
           20.6,
           3,
           1.52,
           2.16,
           8.290000000000001,
           0.61,
           2.72,
           6.58,
           0.5,
           0.33,
           0.37,
           0,
           0.11,
           3.37,
           1.8900000000000001,
           0.1,
           0.8
          ]
         },
         "node": {
          "label": [
           "Compostable Food Containers",
           "Misc. Meal Waste",
           "Paper Towels",
           "paper towels",
           "BPI Certified Compostable To-Go Ware",
           "Compostable Dining Waste (non-edible)",
           "Food Waste (edible)",
           "Food/Organic Waste",
           "Napkins/Paper Towels",
           "SCU Coffee Cups",
           "Misc. Landfill",
           "Non-SCU Coffee Cups",
           "Other Landfill",
           "Styrofoam",
           "styrofoam",
           "Reusables",
           "Aseptic Containers",
           "Cardboard",
           "Const/Demo Waste",
           "Glass",
           "Metal",
           "Paper",
           "Paperboard Rolls",
           "Plastic 1-7",
           "Plastic Film",
           "Terracycle",
           "aseptic containers",
           "cardboard",
           "glass",
           "metal",
           "paper",
           "paperboard rolls",
           "terracycle",
           "E-/Universal Waste",
           "Aseptic/Tetra-Pak",
           "Electronic & Universal Waste",
           "Film Plastic",
           "Metal & Aluminum",
           "Paperboard",
           "Plastics #1-7",
           "reusables"
          ]
         },
         "type": "sankey"
        }
       ],
       "layout": {
        "template": {
         "data": {
          "bar": [
           {
            "error_x": {
             "color": "#2a3f5f"
            },
            "error_y": {
             "color": "#2a3f5f"
            },
            "marker": {
             "line": {
              "color": "#E5ECF6",
              "width": 0.5
             },
             "pattern": {
              "fillmode": "overlay",
              "size": 10,
              "solidity": 0.2
             }
            },
            "type": "bar"
           }
          ],
          "barpolar": [
           {
            "marker": {
             "line": {
              "color": "#E5ECF6",
              "width": 0.5
             },
             "pattern": {
              "fillmode": "overlay",
              "size": 10,
              "solidity": 0.2
             }
            },
            "type": "barpolar"
           }
          ],
          "carpet": [
           {
            "aaxis": {
             "endlinecolor": "#2a3f5f",
             "gridcolor": "white",
             "linecolor": "white",
             "minorgridcolor": "white",
             "startlinecolor": "#2a3f5f"
            },
            "baxis": {
             "endlinecolor": "#2a3f5f",
             "gridcolor": "white",
             "linecolor": "white",
             "minorgridcolor": "white",
             "startlinecolor": "#2a3f5f"
            },
            "type": "carpet"
           }
          ],
          "choropleth": [
           {
            "colorbar": {
             "outlinewidth": 0,
             "ticks": ""
            },
            "type": "choropleth"
           }
          ],
          "contour": [
           {
            "colorbar": {
             "outlinewidth": 0,
             "ticks": ""
            },
            "colorscale": [
             [
              0,
              "#0d0887"
             ],
             [
              0.1111111111111111,
              "#46039f"
             ],
             [
              0.2222222222222222,
              "#7201a8"
             ],
             [
              0.3333333333333333,
              "#9c179e"
             ],
             [
              0.4444444444444444,
              "#bd3786"
             ],
             [
              0.5555555555555556,
              "#d8576b"
             ],
             [
              0.6666666666666666,
              "#ed7953"
             ],
             [
              0.7777777777777778,
              "#fb9f3a"
             ],
             [
              0.8888888888888888,
              "#fdca26"
             ],
             [
              1,
              "#f0f921"
             ]
            ],
            "type": "contour"
           }
          ],
          "contourcarpet": [
           {
            "colorbar": {
             "outlinewidth": 0,
             "ticks": ""
            },
            "type": "contourcarpet"
           }
          ],
          "heatmap": [
           {
            "colorbar": {
             "outlinewidth": 0,
             "ticks": ""
            },
            "colorscale": [
             [
              0,
              "#0d0887"
             ],
             [
              0.1111111111111111,
              "#46039f"
             ],
             [
              0.2222222222222222,
              "#7201a8"
             ],
             [
              0.3333333333333333,
              "#9c179e"
             ],
             [
              0.4444444444444444,
              "#bd3786"
             ],
             [
              0.5555555555555556,
              "#d8576b"
             ],
             [
              0.6666666666666666,
              "#ed7953"
             ],
             [
              0.7777777777777778,
              "#fb9f3a"
             ],
             [
              0.8888888888888888,
              "#fdca26"
             ],
             [
              1,
              "#f0f921"
             ]
            ],
            "type": "heatmap"
           }
          ],
          "heatmapgl": [
           {
            "colorbar": {
             "outlinewidth": 0,
             "ticks": ""
            },
            "colorscale": [
             [
              0,
              "#0d0887"
             ],
             [
              0.1111111111111111,
              "#46039f"
             ],
             [
              0.2222222222222222,
              "#7201a8"
             ],
             [
              0.3333333333333333,
              "#9c179e"
             ],
             [
              0.4444444444444444,
              "#bd3786"
             ],
             [
              0.5555555555555556,
              "#d8576b"
             ],
             [
              0.6666666666666666,
              "#ed7953"
             ],
             [
              0.7777777777777778,
              "#fb9f3a"
             ],
             [
              0.8888888888888888,
              "#fdca26"
             ],
             [
              1,
              "#f0f921"
             ]
            ],
            "type": "heatmapgl"
           }
          ],
          "histogram": [
           {
            "marker": {
             "pattern": {
              "fillmode": "overlay",
              "size": 10,
              "solidity": 0.2
             }
            },
            "type": "histogram"
           }
          ],
          "histogram2d": [
           {
            "colorbar": {
             "outlinewidth": 0,
             "ticks": ""
            },
            "colorscale": [
             [
              0,
              "#0d0887"
             ],
             [
              0.1111111111111111,
              "#46039f"
             ],
             [
              0.2222222222222222,
              "#7201a8"
             ],
             [
              0.3333333333333333,
              "#9c179e"
             ],
             [
              0.4444444444444444,
              "#bd3786"
             ],
             [
              0.5555555555555556,
              "#d8576b"
             ],
             [
              0.6666666666666666,
              "#ed7953"
             ],
             [
              0.7777777777777778,
              "#fb9f3a"
             ],
             [
              0.8888888888888888,
              "#fdca26"
             ],
             [
              1,
              "#f0f921"
             ]
            ],
            "type": "histogram2d"
           }
          ],
          "histogram2dcontour": [
           {
            "colorbar": {
             "outlinewidth": 0,
             "ticks": ""
            },
            "colorscale": [
             [
              0,
              "#0d0887"
             ],
             [
              0.1111111111111111,
              "#46039f"
             ],
             [
              0.2222222222222222,
              "#7201a8"
             ],
             [
              0.3333333333333333,
              "#9c179e"
             ],
             [
              0.4444444444444444,
              "#bd3786"
             ],
             [
              0.5555555555555556,
              "#d8576b"
             ],
             [
              0.6666666666666666,
              "#ed7953"
             ],
             [
              0.7777777777777778,
              "#fb9f3a"
             ],
             [
              0.8888888888888888,
              "#fdca26"
             ],
             [
              1,
              "#f0f921"
             ]
            ],
            "type": "histogram2dcontour"
           }
          ],
          "mesh3d": [
           {
            "colorbar": {
             "outlinewidth": 0,
             "ticks": ""
            },
            "type": "mesh3d"
           }
          ],
          "parcoords": [
           {
            "line": {
             "colorbar": {
              "outlinewidth": 0,
              "ticks": ""
             }
            },
            "type": "parcoords"
           }
          ],
          "pie": [
           {
            "automargin": true,
            "type": "pie"
           }
          ],
          "scatter": [
           {
            "fillpattern": {
             "fillmode": "overlay",
             "size": 10,
             "solidity": 0.2
            },
            "type": "scatter"
           }
          ],
          "scatter3d": [
           {
            "line": {
             "colorbar": {
              "outlinewidth": 0,
              "ticks": ""
             }
            },
            "marker": {
             "colorbar": {
              "outlinewidth": 0,
              "ticks": ""
             }
            },
            "type": "scatter3d"
           }
          ],
          "scattercarpet": [
           {
            "marker": {
             "colorbar": {
              "outlinewidth": 0,
              "ticks": ""
             }
            },
            "type": "scattercarpet"
           }
          ],
          "scattergeo": [
           {
            "marker": {
             "colorbar": {
              "outlinewidth": 0,
              "ticks": ""
             }
            },
            "type": "scattergeo"
           }
          ],
          "scattergl": [
           {
            "marker": {
             "colorbar": {
              "outlinewidth": 0,
              "ticks": ""
             }
            },
            "type": "scattergl"
           }
          ],
          "scattermapbox": [
           {
            "marker": {
             "colorbar": {
              "outlinewidth": 0,
              "ticks": ""
             }
            },
            "type": "scattermapbox"
           }
          ],
          "scatterpolar": [
           {
            "marker": {
             "colorbar": {
              "outlinewidth": 0,
              "ticks": ""
             }
            },
            "type": "scatterpolar"
           }
          ],
          "scatterpolargl": [
           {
            "marker": {
             "colorbar": {
              "outlinewidth": 0,
              "ticks": ""
             }
            },
            "type": "scatterpolargl"
           }
          ],
          "scatterternary": [
           {
            "marker": {
             "colorbar": {
              "outlinewidth": 0,
              "ticks": ""
             }
            },
            "type": "scatterternary"
           }
          ],
          "surface": [
           {
            "colorbar": {
             "outlinewidth": 0,
             "ticks": ""
            },
            "colorscale": [
             [
              0,
              "#0d0887"
             ],
             [
              0.1111111111111111,
              "#46039f"
             ],
             [
              0.2222222222222222,
              "#7201a8"
             ],
             [
              0.3333333333333333,
              "#9c179e"
             ],
             [
              0.4444444444444444,
              "#bd3786"
             ],
             [
              0.5555555555555556,
              "#d8576b"
             ],
             [
              0.6666666666666666,
              "#ed7953"
             ],
             [
              0.7777777777777778,
              "#fb9f3a"
             ],
             [
              0.8888888888888888,
              "#fdca26"
             ],
             [
              1,
              "#f0f921"
             ]
            ],
            "type": "surface"
           }
          ],
          "table": [
           {
            "cells": {
             "fill": {
              "color": "#EBF0F8"
             },
             "line": {
              "color": "white"
             }
            },
            "header": {
             "fill": {
              "color": "#C8D4E3"
             },
             "line": {
              "color": "white"
             }
            },
            "type": "table"
           }
          ]
         },
         "layout": {
          "annotationdefaults": {
           "arrowcolor": "#2a3f5f",
           "arrowhead": 0,
           "arrowwidth": 1
          },
          "autotypenumbers": "strict",
          "coloraxis": {
           "colorbar": {
            "outlinewidth": 0,
            "ticks": ""
           }
          },
          "colorscale": {
           "diverging": [
            [
             0,
             "#8e0152"
            ],
            [
             0.1,
             "#c51b7d"
            ],
            [
             0.2,
             "#de77ae"
            ],
            [
             0.3,
             "#f1b6da"
            ],
            [
             0.4,
             "#fde0ef"
            ],
            [
             0.5,
             "#f7f7f7"
            ],
            [
             0.6,
             "#e6f5d0"
            ],
            [
             0.7,
             "#b8e186"
            ],
            [
             0.8,
             "#7fbc41"
            ],
            [
             0.9,
             "#4d9221"
            ],
            [
             1,
             "#276419"
            ]
           ],
           "sequential": [
            [
             0,
             "#0d0887"
            ],
            [
             0.1111111111111111,
             "#46039f"
            ],
            [
             0.2222222222222222,
             "#7201a8"
            ],
            [
             0.3333333333333333,
             "#9c179e"
            ],
            [
             0.4444444444444444,
             "#bd3786"
            ],
            [
             0.5555555555555556,
             "#d8576b"
            ],
            [
             0.6666666666666666,
             "#ed7953"
            ],
            [
             0.7777777777777778,
             "#fb9f3a"
            ],
            [
             0.8888888888888888,
             "#fdca26"
            ],
            [
             1,
             "#f0f921"
            ]
           ],
           "sequentialminus": [
            [
             0,
             "#0d0887"
            ],
            [
             0.1111111111111111,
             "#46039f"
            ],
            [
             0.2222222222222222,
             "#7201a8"
            ],
            [
             0.3333333333333333,
             "#9c179e"
            ],
            [
             0.4444444444444444,
             "#bd3786"
            ],
            [
             0.5555555555555556,
             "#d8576b"
            ],
            [
             0.6666666666666666,
             "#ed7953"
            ],
            [
             0.7777777777777778,
             "#fb9f3a"
            ],
            [
             0.8888888888888888,
             "#fdca26"
            ],
            [
             1,
             "#f0f921"
            ]
           ]
          },
          "colorway": [
           "#636efa",
           "#EF553B",
           "#00cc96",
           "#ab63fa",
           "#FFA15A",
           "#19d3f3",
           "#FF6692",
           "#B6E880",
           "#FF97FF",
           "#FECB52"
          ],
          "font": {
           "color": "#2a3f5f"
          },
          "geo": {
           "bgcolor": "white",
           "lakecolor": "white",
           "landcolor": "#E5ECF6",
           "showlakes": true,
           "showland": true,
           "subunitcolor": "white"
          },
          "hoverlabel": {
           "align": "left"
          },
          "hovermode": "closest",
          "mapbox": {
           "style": "light"
          },
          "paper_bgcolor": "white",
          "plot_bgcolor": "#E5ECF6",
          "polar": {
           "angularaxis": {
            "gridcolor": "white",
            "linecolor": "white",
            "ticks": ""
           },
           "bgcolor": "#E5ECF6",
           "radialaxis": {
            "gridcolor": "white",
            "linecolor": "white",
            "ticks": ""
           }
          },
          "scene": {
           "xaxis": {
            "backgroundcolor": "#E5ECF6",
            "gridcolor": "white",
            "gridwidth": 2,
            "linecolor": "white",
            "showbackground": true,
            "ticks": "",
            "zerolinecolor": "white"
           },
           "yaxis": {
            "backgroundcolor": "#E5ECF6",
            "gridcolor": "white",
            "gridwidth": 2,
            "linecolor": "white",
            "showbackground": true,
            "ticks": "",
            "zerolinecolor": "white"
           },
           "zaxis": {
            "backgroundcolor": "#E5ECF6",
            "gridcolor": "white",
            "gridwidth": 2,
            "linecolor": "white",
            "showbackground": true,
            "ticks": "",
            "zerolinecolor": "white"
           }
          },
          "shapedefaults": {
           "line": {
            "color": "#2a3f5f"
           }
          },
          "ternary": {
           "aaxis": {
            "gridcolor": "white",
            "linecolor": "white",
            "ticks": ""
           },
           "baxis": {
            "gridcolor": "white",
            "linecolor": "white",
            "ticks": ""
           },
           "bgcolor": "#E5ECF6",
           "caxis": {
            "gridcolor": "white",
            "linecolor": "white",
            "ticks": ""
           }
          },
          "title": {
           "x": 0.05
          },
          "xaxis": {
           "automargin": true,
           "gridcolor": "white",
           "linecolor": "white",
           "ticks": "",
           "title": {
            "standoff": 15
           },
           "zerolinecolor": "white",
           "zerolinewidth": 2
          },
          "yaxis": {
           "automargin": true,
           "gridcolor": "white",
           "linecolor": "white",
           "ticks": "",
           "title": {
            "standoff": 15
           },
           "zerolinecolor": "white",
           "zerolinewidth": 2
          }
         }
        },
        "title": {
         "text": "Waste Flow by Stream and Substream"
        }
       }
      }
     },
     "metadata": {},
     "output_type": "display_data"
    }
   ],
   "source": [
    "# Sankey diagram\n",
    "sankey_data = data.groupby(['Stream', 'Substream']).sum()['Volume'].reset_index()\n",
    "fig = go.Figure(data=[go.Sankey(\n",
    "    node=dict(\n",
    "        label=sankey_data['Substream'].unique(),\n",
    "    ),\n",
    "    link=dict(\n",
    "        source=sankey_data['Stream'],\n",
    "        target=sankey_data['Substream'],\n",
    "        value=sankey_data['Volume'],\n",
    "    ),\n",
    ")])\n",
    "fig.update_layout(title='Waste Flow by Stream and Substream')\n",
    "fig.show()"
   ]
  },
  {
   "cell_type": "code",
   "execution_count": 8,
   "metadata": {},
   "outputs": [
    {
     "data": {
      "application/vnd.plotly.v1+json": {
       "config": {
        "plotlyServerURL": "https://plot.ly"
       },
       "data": [
        {
         "colorscale": [
          [
           0,
           "#440154"
          ],
          [
           0.1111111111111111,
           "#482878"
          ],
          [
           0.2222222222222222,
           "#3e4989"
          ],
          [
           0.3333333333333333,
           "#31688e"
          ],
          [
           0.4444444444444444,
           "#26828e"
          ],
          [
           0.5555555555555556,
           "#1f9e89"
          ],
          [
           0.6666666666666666,
           "#35b779"
          ],
          [
           0.7777777777777778,
           "#6ece58"
          ],
          [
           0.8888888888888888,
           "#b5de2b"
          ],
          [
           1,
           "#fde725"
          ]
         ],
         "type": "heatmap",
         "x": [
          "Aseptic Containers",
          "Aseptic/Tetra-Pak",
          "BPI Certified Compostable To-Go Ware",
          "Cardboard",
          "Compostable Dining Waste (non-edible)",
          "Compostable Food Containers",
          "Const/Demo Waste",
          "E-/Universal Waste",
          "Electronic & Universal Waste",
          "Film Plastic",
          "Food Waste (edible)",
          "Food/Organic Waste",
          "Glass",
          "Metal",
          "Metal & Aluminum",
          "Misc. Landfill",
          "Misc. Meal Waste",
          "Napkins/Paper Towels",
          "Non-SCU Coffee Cups",
          "Other Landfill",
          "Paper",
          "Paper Towels",
          "Paperboard",
          "Paperboard Rolls",
          "Plastic 1-7",
          "Plastic Film",
          "Plastics #1-7",
          "Reusables",
          "SCU Coffee Cups",
          "Styrofoam",
          "Terracycle",
          "aseptic containers",
          "cardboard",
          "glass",
          "metal",
          "paper",
          "paper towels",
          "paperboard rolls",
          "reusables",
          "styrofoam",
          "terracycle"
         ],
         "y": [
          "1/21/2020",
          "1/26/2018",
          "10/4/2017",
          "11/14/2016",
          "11/16/2015",
          "2/11/2016",
          "2/9/2016",
          "2/9/2018",
          "3/13/2017",
          "3/14/2023",
          "4/27/2016",
          "4/27/2017",
          "4/30/2015",
          "5/15/2018",
          "5/4/2016",
          "5/5/2015",
          "5/8/2019",
          "9/1/2015",
          "9/16/2016"
         ],
         "z": [
          [
           0.1,
           null,
           null,
           0.5,
           1.5,
           null,
           0.1,
           0.05,
           null,
           null,
           0.3,
           null,
           0.1,
           0.5,
           null,
           null,
           0.25,
           null,
           0.75,
           3,
           0.5,
           1,
           null,
           null,
           1,
           0.1,
           null,
           0.3,
           0.75,
           0.1,
           0.1,
           null,
           null,
           null,
           null,
           null,
           null,
           null,
           null,
           null,
           null
          ],
          [
           null,
           null,
           null,
           null,
           null,
           1.75,
           null,
           0.1,
           null,
           null,
           null,
           null,
           0.1,
           0.25,
           null,
           null,
           0.5800000000000001,
           null,
           null,
           2,
           2,
           2.25,
           null,
           0.25,
           2,
           1,
           null,
           0.1,
           null,
           0.1,
           0.43000000000000005,
           null,
           null,
           null,
           null,
           null,
           null,
           null,
           null,
           null,
           null
          ],
          [
           null,
           null,
           null,
           null,
           null,
           1.33,
           null,
           0.01,
           null,
           null,
           null,
           null,
           null,
           0.01,
           null,
           null,
           0.22,
           null,
           null,
           1.36,
           0.2,
           null,
           null,
           0.2,
           5.51,
           2.26,
           null,
           0.66,
           null,
           null,
           0.2,
           0.13,
           4.5,
           0.45,
           0.5,
           1.01,
           1.25,
           null,
           0.51,
           null,
           0.01
          ],
          [
           0.2,
           null,
           null,
           1,
           null,
           1.35,
           0.05,
           0.1,
           null,
           null,
           null,
           null,
           null,
           0.53,
           null,
           null,
           0.25,
           null,
           null,
           1.4100000000000001,
           0.7,
           3.66,
           null,
           0.4,
           2.2,
           1.35,
           null,
           0.2,
           null,
           null,
           0.25,
           null,
           null,
           null,
           null,
           null,
           null,
           null,
           null,
           null,
           null
          ],
          [
           null,
           null,
           null,
           null,
           null,
           2,
           null,
           null,
           null,
           null,
           null,
           null,
           null,
           null,
           null,
           null,
           0.33,
           null,
           null,
           0.89,
           null,
           null,
           null,
           null,
           0.8,
           1,
           null,
           null,
           null,
           null,
           null,
           0.8,
           1.33,
           0.03,
           0.33,
           0.75,
           0.33,
           null,
           0.06,
           null,
           0.03
          ],
          [
           null,
           null,
           null,
           1.33,
           null,
           1.75,
           null,
           null,
           null,
           null,
           null,
           null,
           0.06,
           0.25,
           null,
           null,
           0.25,
           null,
           null,
           0.5,
           1.13,
           1.25,
           null,
           0.01,
           1.6,
           1,
           null,
           0.75,
           null,
           null,
           0.25,
           null,
           null,
           null,
           null,
           null,
           null,
           null,
           null,
           null,
           null
          ],
          [
           null,
           null,
           null,
           null,
           null,
           2,
           0.17,
           null,
           null,
           null,
           null,
           null,
           null,
           null,
           null,
           null,
           0.5800000000000001,
           null,
           null,
           0.8,
           null,
           null,
           null,
           null,
           2.29,
           2.75,
           null,
           null,
           null,
           null,
           null,
           null,
           3,
           0.25,
           0.75,
           2,
           0.5,
           null,
           0.17,
           null,
           0.03
          ],
          [
           0.05,
           null,
           null,
           1,
           null,
           3.25,
           null,
           0.05,
           null,
           null,
           null,
           null,
           0.25,
           0.25,
           null,
           null,
           0.33,
           null,
           null,
           1.13,
           2.05,
           0.75,
           null,
           null,
           3.75,
           null,
           null,
           0.25,
           null,
           0.25,
           0.05,
           null,
           null,
           null,
           null,
           null,
           null,
           null,
           null,
           null,
           null
          ],
          [
           0.1,
           null,
           null,
           0.75,
           null,
           1.5,
           null,
           0.1,
           null,
           null,
           null,
           null,
           0.1,
           0.33,
           null,
           null,
           0.66,
           null,
           null,
           1.6,
           1.67,
           1,
           null,
           0.1,
           2.75,
           1.67,
           null,
           0.1,
           null,
           null,
           0.1,
           null,
           null,
           null,
           null,
           null,
           null,
           null,
           null,
           null,
           null
          ],
          [
           null,
           0,
           0.7,
           1.3,
           null,
           null,
           null,
           null,
           0,
           0.5,
           null,
           0.5,
           0.3,
           null,
           0.5,
           2.5,
           null,
           0.3,
           null,
           null,
           1.5,
           null,
           1,
           null,
           null,
           null,
           3,
           0.25,
           null,
           0,
           0,
           null,
           null,
           null,
           null,
           null,
           null,
           null,
           null,
           null,
           null
          ],
          [
           null,
           null,
           null,
           null,
           null,
           1,
           null,
           null,
           null,
           null,
           null,
           null,
           null,
           null,
           null,
           null,
           0.33,
           null,
           null,
           0.75,
           null,
           null,
           null,
           null,
           0.5,
           1,
           null,
           null,
           null,
           null,
           null,
           0.33,
           0.5,
           0.03,
           0.33,
           0.33,
           0.25,
           null,
           0.13,
           null,
           null
          ],
          [
           null,
           null,
           null,
           null,
           null,
           3.5,
           null,
           0.25,
           null,
           null,
           null,
           null,
           null,
           null,
           null,
           null,
           1.58,
           null,
           null,
           1.5,
           null,
           null,
           null,
           null,
           2.08,
           2.5,
           null,
           null,
           null,
           null,
           null,
           0.33,
           2,
           0.1,
           0.75,
           2,
           0.75,
           null,
           1,
           null,
           0.01
          ],
          [
           null,
           null,
           null,
           null,
           null,
           3,
           null,
           null,
           null,
           null,
           null,
           null,
           null,
           null,
           null,
           null,
           1.74,
           null,
           null,
           1,
           null,
           null,
           null,
           null,
           0.5,
           2,
           null,
           null,
           null,
           null,
           null,
           0.5,
           1,
           0.1,
           0.33,
           1,
           0.5,
           null,
           0.1,
           0.1,
           0.1
          ],
          [
           null,
           null,
           null,
           3.5,
           null,
           2.08,
           0.25,
           0.1,
           null,
           null,
           null,
           null,
           0.25,
           0.4,
           null,
           null,
           0.6,
           null,
           null,
           2.04,
           2.46,
           1.8800000000000001,
           null,
           0.05,
           2.62,
           2.62,
           null,
           0.6,
           null,
           0.15000000000000002,
           null,
           null,
           null,
           null,
           null,
           null,
           null,
           null,
           null,
           null,
           null
          ],
          [
           0.06,
           null,
           null,
           1,
           null,
           2,
           null,
           0.03,
           null,
           null,
           null,
           null,
           0.33,
           0.33,
           null,
           null,
           0.8300000000000001,
           null,
           null,
           1,
           0.75,
           0.25,
           null,
           0.13,
           2,
           1,
           null,
           0.03,
           null,
           null,
           0.04,
           null,
           null,
           null,
           null,
           null,
           null,
           null,
           null,
           null,
           null
          ],
          [
           0.1,
           null,
           null,
           0.75,
           null,
           2,
           null,
           0.01,
           null,
           null,
           null,
           null,
           0.1,
           0.13,
           null,
           null,
           0.53,
           null,
           null,
           2.67,
           2,
           1.67,
           null,
           0.1,
           2,
           1.75,
           null,
           0.33,
           null,
           0.01,
           0.25,
           null,
           null,
           null,
           null,
           null,
           null,
           null,
           null,
           null,
           null
          ],
          [
           0,
           null,
           null,
           0,
           0,
           0,
           0,
           0,
           null,
           null,
           0,
           null,
           0,
           0,
           null,
           null,
           null,
           null,
           0,
           0,
           0,
           0,
           null,
           null,
           0,
           0,
           null,
           null,
           0,
           0,
           0,
           null,
           null,
           null,
           null,
           null,
           null,
           null,
           null,
           null,
           null
          ],
          [
           null,
           null,
           null,
           null,
           null,
           1.42,
           0.1,
           0.1,
           null,
           null,
           null,
           null,
           null,
           null,
           null,
           null,
           0.30000000000000004,
           null,
           null,
           1.23,
           null,
           null,
           null,
           null,
           2.8000000000000003,
           1.6,
           null,
           null,
           null,
           null,
           null,
           0.33,
           3.33,
           0.2,
           0.46,
           1.1,
           2.3200000000000003,
           0.2,
           0.33,
           null,
           0.30000000000000004
          ],
          [
           null,
           null,
           null,
           null,
           null,
           1.5,
           0.05,
           0.1,
           null,
           null,
           null,
           null,
           null,
           null,
           null,
           null,
           0.26,
           null,
           null,
           2.58,
           null,
           null,
           null,
           null,
           2.75,
           2.33,
           null,
           null,
           null,
           null,
           null,
           0.14,
           2.33,
           0.18,
           0.43000000000000005,
           1.75,
           6.5,
           0.37,
           0.5,
           null,
           0.30000000000000004
          ]
         ]
        }
       ],
       "layout": {
        "template": {
         "data": {
          "bar": [
           {
            "error_x": {
             "color": "#2a3f5f"
            },
            "error_y": {
             "color": "#2a3f5f"
            },
            "marker": {
             "line": {
              "color": "#E5ECF6",
              "width": 0.5
             },
             "pattern": {
              "fillmode": "overlay",
              "size": 10,
              "solidity": 0.2
             }
            },
            "type": "bar"
           }
          ],
          "barpolar": [
           {
            "marker": {
             "line": {
              "color": "#E5ECF6",
              "width": 0.5
             },
             "pattern": {
              "fillmode": "overlay",
              "size": 10,
              "solidity": 0.2
             }
            },
            "type": "barpolar"
           }
          ],
          "carpet": [
           {
            "aaxis": {
             "endlinecolor": "#2a3f5f",
             "gridcolor": "white",
             "linecolor": "white",
             "minorgridcolor": "white",
             "startlinecolor": "#2a3f5f"
            },
            "baxis": {
             "endlinecolor": "#2a3f5f",
             "gridcolor": "white",
             "linecolor": "white",
             "minorgridcolor": "white",
             "startlinecolor": "#2a3f5f"
            },
            "type": "carpet"
           }
          ],
          "choropleth": [
           {
            "colorbar": {
             "outlinewidth": 0,
             "ticks": ""
            },
            "type": "choropleth"
           }
          ],
          "contour": [
           {
            "colorbar": {
             "outlinewidth": 0,
             "ticks": ""
            },
            "colorscale": [
             [
              0,
              "#0d0887"
             ],
             [
              0.1111111111111111,
              "#46039f"
             ],
             [
              0.2222222222222222,
              "#7201a8"
             ],
             [
              0.3333333333333333,
              "#9c179e"
             ],
             [
              0.4444444444444444,
              "#bd3786"
             ],
             [
              0.5555555555555556,
              "#d8576b"
             ],
             [
              0.6666666666666666,
              "#ed7953"
             ],
             [
              0.7777777777777778,
              "#fb9f3a"
             ],
             [
              0.8888888888888888,
              "#fdca26"
             ],
             [
              1,
              "#f0f921"
             ]
            ],
            "type": "contour"
           }
          ],
          "contourcarpet": [
           {
            "colorbar": {
             "outlinewidth": 0,
             "ticks": ""
            },
            "type": "contourcarpet"
           }
          ],
          "heatmap": [
           {
            "colorbar": {
             "outlinewidth": 0,
             "ticks": ""
            },
            "colorscale": [
             [
              0,
              "#0d0887"
             ],
             [
              0.1111111111111111,
              "#46039f"
             ],
             [
              0.2222222222222222,
              "#7201a8"
             ],
             [
              0.3333333333333333,
              "#9c179e"
             ],
             [
              0.4444444444444444,
              "#bd3786"
             ],
             [
              0.5555555555555556,
              "#d8576b"
             ],
             [
              0.6666666666666666,
              "#ed7953"
             ],
             [
              0.7777777777777778,
              "#fb9f3a"
             ],
             [
              0.8888888888888888,
              "#fdca26"
             ],
             [
              1,
              "#f0f921"
             ]
            ],
            "type": "heatmap"
           }
          ],
          "heatmapgl": [
           {
            "colorbar": {
             "outlinewidth": 0,
             "ticks": ""
            },
            "colorscale": [
             [
              0,
              "#0d0887"
             ],
             [
              0.1111111111111111,
              "#46039f"
             ],
             [
              0.2222222222222222,
              "#7201a8"
             ],
             [
              0.3333333333333333,
              "#9c179e"
             ],
             [
              0.4444444444444444,
              "#bd3786"
             ],
             [
              0.5555555555555556,
              "#d8576b"
             ],
             [
              0.6666666666666666,
              "#ed7953"
             ],
             [
              0.7777777777777778,
              "#fb9f3a"
             ],
             [
              0.8888888888888888,
              "#fdca26"
             ],
             [
              1,
              "#f0f921"
             ]
            ],
            "type": "heatmapgl"
           }
          ],
          "histogram": [
           {
            "marker": {
             "pattern": {
              "fillmode": "overlay",
              "size": 10,
              "solidity": 0.2
             }
            },
            "type": "histogram"
           }
          ],
          "histogram2d": [
           {
            "colorbar": {
             "outlinewidth": 0,
             "ticks": ""
            },
            "colorscale": [
             [
              0,
              "#0d0887"
             ],
             [
              0.1111111111111111,
              "#46039f"
             ],
             [
              0.2222222222222222,
              "#7201a8"
             ],
             [
              0.3333333333333333,
              "#9c179e"
             ],
             [
              0.4444444444444444,
              "#bd3786"
             ],
             [
              0.5555555555555556,
              "#d8576b"
             ],
             [
              0.6666666666666666,
              "#ed7953"
             ],
             [
              0.7777777777777778,
              "#fb9f3a"
             ],
             [
              0.8888888888888888,
              "#fdca26"
             ],
             [
              1,
              "#f0f921"
             ]
            ],
            "type": "histogram2d"
           }
          ],
          "histogram2dcontour": [
           {
            "colorbar": {
             "outlinewidth": 0,
             "ticks": ""
            },
            "colorscale": [
             [
              0,
              "#0d0887"
             ],
             [
              0.1111111111111111,
              "#46039f"
             ],
             [
              0.2222222222222222,
              "#7201a8"
             ],
             [
              0.3333333333333333,
              "#9c179e"
             ],
             [
              0.4444444444444444,
              "#bd3786"
             ],
             [
              0.5555555555555556,
              "#d8576b"
             ],
             [
              0.6666666666666666,
              "#ed7953"
             ],
             [
              0.7777777777777778,
              "#fb9f3a"
             ],
             [
              0.8888888888888888,
              "#fdca26"
             ],
             [
              1,
              "#f0f921"
             ]
            ],
            "type": "histogram2dcontour"
           }
          ],
          "mesh3d": [
           {
            "colorbar": {
             "outlinewidth": 0,
             "ticks": ""
            },
            "type": "mesh3d"
           }
          ],
          "parcoords": [
           {
            "line": {
             "colorbar": {
              "outlinewidth": 0,
              "ticks": ""
             }
            },
            "type": "parcoords"
           }
          ],
          "pie": [
           {
            "automargin": true,
            "type": "pie"
           }
          ],
          "scatter": [
           {
            "fillpattern": {
             "fillmode": "overlay",
             "size": 10,
             "solidity": 0.2
            },
            "type": "scatter"
           }
          ],
          "scatter3d": [
           {
            "line": {
             "colorbar": {
              "outlinewidth": 0,
              "ticks": ""
             }
            },
            "marker": {
             "colorbar": {
              "outlinewidth": 0,
              "ticks": ""
             }
            },
            "type": "scatter3d"
           }
          ],
          "scattercarpet": [
           {
            "marker": {
             "colorbar": {
              "outlinewidth": 0,
              "ticks": ""
             }
            },
            "type": "scattercarpet"
           }
          ],
          "scattergeo": [
           {
            "marker": {
             "colorbar": {
              "outlinewidth": 0,
              "ticks": ""
             }
            },
            "type": "scattergeo"
           }
          ],
          "scattergl": [
           {
            "marker": {
             "colorbar": {
              "outlinewidth": 0,
              "ticks": ""
             }
            },
            "type": "scattergl"
           }
          ],
          "scattermapbox": [
           {
            "marker": {
             "colorbar": {
              "outlinewidth": 0,
              "ticks": ""
             }
            },
            "type": "scattermapbox"
           }
          ],
          "scatterpolar": [
           {
            "marker": {
             "colorbar": {
              "outlinewidth": 0,
              "ticks": ""
             }
            },
            "type": "scatterpolar"
           }
          ],
          "scatterpolargl": [
           {
            "marker": {
             "colorbar": {
              "outlinewidth": 0,
              "ticks": ""
             }
            },
            "type": "scatterpolargl"
           }
          ],
          "scatterternary": [
           {
            "marker": {
             "colorbar": {
              "outlinewidth": 0,
              "ticks": ""
             }
            },
            "type": "scatterternary"
           }
          ],
          "surface": [
           {
            "colorbar": {
             "outlinewidth": 0,
             "ticks": ""
            },
            "colorscale": [
             [
              0,
              "#0d0887"
             ],
             [
              0.1111111111111111,
              "#46039f"
             ],
             [
              0.2222222222222222,
              "#7201a8"
             ],
             [
              0.3333333333333333,
              "#9c179e"
             ],
             [
              0.4444444444444444,
              "#bd3786"
             ],
             [
              0.5555555555555556,
              "#d8576b"
             ],
             [
              0.6666666666666666,
              "#ed7953"
             ],
             [
              0.7777777777777778,
              "#fb9f3a"
             ],
             [
              0.8888888888888888,
              "#fdca26"
             ],
             [
              1,
              "#f0f921"
             ]
            ],
            "type": "surface"
           }
          ],
          "table": [
           {
            "cells": {
             "fill": {
              "color": "#EBF0F8"
             },
             "line": {
              "color": "white"
             }
            },
            "header": {
             "fill": {
              "color": "#C8D4E3"
             },
             "line": {
              "color": "white"
             }
            },
            "type": "table"
           }
          ]
         },
         "layout": {
          "annotationdefaults": {
           "arrowcolor": "#2a3f5f",
           "arrowhead": 0,
           "arrowwidth": 1
          },
          "autotypenumbers": "strict",
          "coloraxis": {
           "colorbar": {
            "outlinewidth": 0,
            "ticks": ""
           }
          },
          "colorscale": {
           "diverging": [
            [
             0,
             "#8e0152"
            ],
            [
             0.1,
             "#c51b7d"
            ],
            [
             0.2,
             "#de77ae"
            ],
            [
             0.3,
             "#f1b6da"
            ],
            [
             0.4,
             "#fde0ef"
            ],
            [
             0.5,
             "#f7f7f7"
            ],
            [
             0.6,
             "#e6f5d0"
            ],
            [
             0.7,
             "#b8e186"
            ],
            [
             0.8,
             "#7fbc41"
            ],
            [
             0.9,
             "#4d9221"
            ],
            [
             1,
             "#276419"
            ]
           ],
           "sequential": [
            [
             0,
             "#0d0887"
            ],
            [
             0.1111111111111111,
             "#46039f"
            ],
            [
             0.2222222222222222,
             "#7201a8"
            ],
            [
             0.3333333333333333,
             "#9c179e"
            ],
            [
             0.4444444444444444,
             "#bd3786"
            ],
            [
             0.5555555555555556,
             "#d8576b"
            ],
            [
             0.6666666666666666,
             "#ed7953"
            ],
            [
             0.7777777777777778,
             "#fb9f3a"
            ],
            [
             0.8888888888888888,
             "#fdca26"
            ],
            [
             1,
             "#f0f921"
            ]
           ],
           "sequentialminus": [
            [
             0,
             "#0d0887"
            ],
            [
             0.1111111111111111,
             "#46039f"
            ],
            [
             0.2222222222222222,
             "#7201a8"
            ],
            [
             0.3333333333333333,
             "#9c179e"
            ],
            [
             0.4444444444444444,
             "#bd3786"
            ],
            [
             0.5555555555555556,
             "#d8576b"
            ],
            [
             0.6666666666666666,
             "#ed7953"
            ],
            [
             0.7777777777777778,
             "#fb9f3a"
            ],
            [
             0.8888888888888888,
             "#fdca26"
            ],
            [
             1,
             "#f0f921"
            ]
           ]
          },
          "colorway": [
           "#636efa",
           "#EF553B",
           "#00cc96",
           "#ab63fa",
           "#FFA15A",
           "#19d3f3",
           "#FF6692",
           "#B6E880",
           "#FF97FF",
           "#FECB52"
          ],
          "font": {
           "color": "#2a3f5f"
          },
          "geo": {
           "bgcolor": "white",
           "lakecolor": "white",
           "landcolor": "#E5ECF6",
           "showlakes": true,
           "showland": true,
           "subunitcolor": "white"
          },
          "hoverlabel": {
           "align": "left"
          },
          "hovermode": "closest",
          "mapbox": {
           "style": "light"
          },
          "paper_bgcolor": "white",
          "plot_bgcolor": "#E5ECF6",
          "polar": {
           "angularaxis": {
            "gridcolor": "white",
            "linecolor": "white",
            "ticks": ""
           },
           "bgcolor": "#E5ECF6",
           "radialaxis": {
            "gridcolor": "white",
            "linecolor": "white",
            "ticks": ""
           }
          },
          "scene": {
           "xaxis": {
            "backgroundcolor": "#E5ECF6",
            "gridcolor": "white",
            "gridwidth": 2,
            "linecolor": "white",
            "showbackground": true,
            "ticks": "",
            "zerolinecolor": "white"
           },
           "yaxis": {
            "backgroundcolor": "#E5ECF6",
            "gridcolor": "white",
            "gridwidth": 2,
            "linecolor": "white",
            "showbackground": true,
            "ticks": "",
            "zerolinecolor": "white"
           },
           "zaxis": {
            "backgroundcolor": "#E5ECF6",
            "gridcolor": "white",
            "gridwidth": 2,
            "linecolor": "white",
            "showbackground": true,
            "ticks": "",
            "zerolinecolor": "white"
           }
          },
          "shapedefaults": {
           "line": {
            "color": "#2a3f5f"
           }
          },
          "ternary": {
           "aaxis": {
            "gridcolor": "white",
            "linecolor": "white",
            "ticks": ""
           },
           "baxis": {
            "gridcolor": "white",
            "linecolor": "white",
            "ticks": ""
           },
           "bgcolor": "#E5ECF6",
           "caxis": {
            "gridcolor": "white",
            "linecolor": "white",
            "ticks": ""
           }
          },
          "title": {
           "x": 0.05
          },
          "xaxis": {
           "automargin": true,
           "gridcolor": "white",
           "linecolor": "white",
           "ticks": "",
           "title": {
            "standoff": 15
           },
           "zerolinecolor": "white",
           "zerolinewidth": 2
          },
          "yaxis": {
           "automargin": true,
           "gridcolor": "white",
           "linecolor": "white",
           "ticks": "",
           "title": {
            "standoff": 15
           },
           "zerolinecolor": "white",
           "zerolinewidth": 2
          }
         }
        },
        "title": {
         "text": "Waste Volume Heatmap"
        },
        "xaxis": {
         "title": {
          "text": "Substream"
         }
        },
        "yaxis": {
         "title": {
          "text": "Date"
         }
        }
       }
      }
     },
     "metadata": {},
     "output_type": "display_data"
    }
   ],
   "source": [
    "# Create the heatmap using Plotly\n",
    "fig = go.Figure(data=go.Heatmap(\n",
    "    z=pivot_table.values,\n",
    "    x=pivot_table.columns,\n",
    "    y=pivot_table.index,\n",
    "    colorscale='Viridis'))\n",
    "\n",
    "# Customize the layout\n",
    "fig.update_layout(\n",
    "    title='Waste Volume Heatmap',\n",
    "    xaxis_title='Substream',\n",
    "    yaxis_title='Date')\n",
    "\n",
    "# Display the interactive heatmap\n",
    "fig.show()"
   ]
  },
  {
   "cell_type": "code",
   "execution_count": 4,
   "metadata": {},
   "outputs": [
    {
     "data": {
      "application/vnd.plotly.v1+json": {
       "config": {
        "plotlyServerURL": "https://plot.ly"
       },
       "data": [
        {
         "marker": {
          "color": "blue"
         },
         "type": "bar",
         "x": [
          "Aseptic Containers",
          "Aseptic/Tetra-Pak",
          "BPI Certified Compostable To-Go Ware",
          "Cardboard",
          "Compostable Dining Waste (non-edible)",
          "Compostable Food Containers",
          "Const/Demo Waste",
          "E-/Universal Waste",
          "Electronic & Universal Waste",
          "Film Plastic",
          "Food Waste (edible)",
          "Food/Organic Waste",
          "Glass",
          "Metal",
          "Metal & Aluminum",
          "Misc. Landfill",
          "Misc. Meal Waste",
          "Napkins/Paper Towels",
          "Non-SCU Coffee Cups",
          "Other Landfill",
          "Paper",
          "Paper Towels",
          "Paperboard",
          "Paperboard Rolls",
          "Plastic 1-7",
          "Plastic Film",
          "Plastics #1-7",
          "Reusables",
          "SCU Coffee Cups",
          "Styrofoam",
          "Terracycle",
          "aseptic containers",
          "cardboard",
          "glass",
          "metal",
          "paper",
          "paper towels",
          "paperboard rolls",
          "reusables",
          "styrofoam",
          "terracycle"
         ],
         "y": [
          0.61,
          0,
          0.7,
          11.13,
          1.5,
          31.43,
          0.72,
          1,
          0,
          0.5,
          0.3,
          0.5,
          1.59,
          2.98,
          0.5,
          2.5,
          9.620000000000001,
          0.3,
          0.75,
          25.46,
          14.96,
          13.71,
          1,
          1.24,
          37.15,
          25.93,
          3,
          3.57,
          0.75,
          0.61,
          1.67,
          2.56,
          17.99,
          1.34,
          3.8800000000000003,
          9.94,
          12.4,
          0.5700000000000001,
          2.8000000000000003,
          0.1,
          0.78
         ]
        }
       ],
       "layout": {
        "template": {
         "data": {
          "candlestick": [
           {
            "decreasing": {
             "line": {
              "color": "#000033"
             }
            },
            "increasing": {
             "line": {
              "color": "#000032"
             }
            },
            "type": "candlestick"
           }
          ],
          "contour": [
           {
            "colorscale": [
             [
              0,
              "#000011"
             ],
             [
              0.1111111111111111,
              "#000012"
             ],
             [
              0.2222222222222222,
              "#000013"
             ],
             [
              0.3333333333333333,
              "#000014"
             ],
             [
              0.4444444444444444,
              "#000015"
             ],
             [
              0.5555555555555556,
              "#000016"
             ],
             [
              0.6666666666666666,
              "#000017"
             ],
             [
              0.7777777777777778,
              "#000018"
             ],
             [
              0.8888888888888888,
              "#000019"
             ],
             [
              1,
              "#000020"
             ]
            ],
            "type": "contour"
           }
          ],
          "contourcarpet": [
           {
            "colorscale": [
             [
              0,
              "#000011"
             ],
             [
              0.1111111111111111,
              "#000012"
             ],
             [
              0.2222222222222222,
              "#000013"
             ],
             [
              0.3333333333333333,
              "#000014"
             ],
             [
              0.4444444444444444,
              "#000015"
             ],
             [
              0.5555555555555556,
              "#000016"
             ],
             [
              0.6666666666666666,
              "#000017"
             ],
             [
              0.7777777777777778,
              "#000018"
             ],
             [
              0.8888888888888888,
              "#000019"
             ],
             [
              1,
              "#000020"
             ]
            ],
            "type": "contourcarpet"
           }
          ],
          "heatmap": [
           {
            "colorscale": [
             [
              0,
              "#000011"
             ],
             [
              0.1111111111111111,
              "#000012"
             ],
             [
              0.2222222222222222,
              "#000013"
             ],
             [
              0.3333333333333333,
              "#000014"
             ],
             [
              0.4444444444444444,
              "#000015"
             ],
             [
              0.5555555555555556,
              "#000016"
             ],
             [
              0.6666666666666666,
              "#000017"
             ],
             [
              0.7777777777777778,
              "#000018"
             ],
             [
              0.8888888888888888,
              "#000019"
             ],
             [
              1,
              "#000020"
             ]
            ],
            "type": "heatmap"
           }
          ],
          "histogram2d": [
           {
            "colorscale": [
             [
              0,
              "#000011"
             ],
             [
              0.1111111111111111,
              "#000012"
             ],
             [
              0.2222222222222222,
              "#000013"
             ],
             [
              0.3333333333333333,
              "#000014"
             ],
             [
              0.4444444444444444,
              "#000015"
             ],
             [
              0.5555555555555556,
              "#000016"
             ],
             [
              0.6666666666666666,
              "#000017"
             ],
             [
              0.7777777777777778,
              "#000018"
             ],
             [
              0.8888888888888888,
              "#000019"
             ],
             [
              1,
              "#000020"
             ]
            ],
            "type": "histogram2d"
           }
          ],
          "icicle": [
           {
            "textfont": {
             "color": "white"
            },
            "type": "icicle"
           }
          ],
          "sankey": [
           {
            "textfont": {
             "color": "#000036"
            },
            "type": "sankey"
           }
          ],
          "scatter": [
           {
            "marker": {
             "line": {
              "width": 0
             }
            },
            "type": "scatter"
           }
          ],
          "table": [
           {
            "cells": {
             "fill": {
              "color": "#000038"
             },
             "font": {
              "color": "#000037"
             },
             "line": {
              "color": "#000039"
             }
            },
            "header": {
             "fill": {
              "color": "#000040"
             },
             "font": {
              "color": "#000036"
             },
             "line": {
              "color": "#000039"
             }
            },
            "type": "table"
           }
          ],
          "waterfall": [
           {
            "connector": {
             "line": {
              "color": "#000036",
              "width": 2
             }
            },
            "decreasing": {
             "marker": {
              "color": "#000033"
             }
            },
            "increasing": {
             "marker": {
              "color": "#000032"
             }
            },
            "totals": {
             "marker": {
              "color": "#000034"
             }
            },
            "type": "waterfall"
           }
          ]
         },
         "layout": {
          "coloraxis": {
           "colorscale": [
            [
             0,
             "#000011"
            ],
            [
             0.1111111111111111,
             "#000012"
            ],
            [
             0.2222222222222222,
             "#000013"
            ],
            [
             0.3333333333333333,
             "#000014"
            ],
            [
             0.4444444444444444,
             "#000015"
            ],
            [
             0.5555555555555556,
             "#000016"
            ],
            [
             0.6666666666666666,
             "#000017"
            ],
            [
             0.7777777777777778,
             "#000018"
            ],
            [
             0.8888888888888888,
             "#000019"
            ],
            [
             1,
             "#000020"
            ]
           ]
          },
          "colorscale": {
           "diverging": [
            [
             0,
             "#000021"
            ],
            [
             0.1,
             "#000022"
            ],
            [
             0.2,
             "#000023"
            ],
            [
             0.3,
             "#000024"
            ],
            [
             0.4,
             "#000025"
            ],
            [
             0.5,
             "#000026"
            ],
            [
             0.6,
             "#000027"
            ],
            [
             0.7,
             "#000028"
            ],
            [
             0.8,
             "#000029"
            ],
            [
             0.9,
             "#000030"
            ],
            [
             1,
             "#000031"
            ]
           ],
           "sequential": [
            [
             0,
             "#000011"
            ],
            [
             0.1111111111111111,
             "#000012"
            ],
            [
             0.2222222222222222,
             "#000013"
            ],
            [
             0.3333333333333333,
             "#000014"
            ],
            [
             0.4444444444444444,
             "#000015"
            ],
            [
             0.5555555555555556,
             "#000016"
            ],
            [
             0.6666666666666666,
             "#000017"
            ],
            [
             0.7777777777777778,
             "#000018"
            ],
            [
             0.8888888888888888,
             "#000019"
            ],
            [
             1,
             "#000020"
            ]
           ],
           "sequentialminus": [
            [
             0,
             "#000011"
            ],
            [
             0.1111111111111111,
             "#000012"
            ],
            [
             0.2222222222222222,
             "#000013"
            ],
            [
             0.3333333333333333,
             "#000014"
            ],
            [
             0.4444444444444444,
             "#000015"
            ],
            [
             0.5555555555555556,
             "#000016"
            ],
            [
             0.6666666666666666,
             "#000017"
            ],
            [
             0.7777777777777778,
             "#000018"
            ],
            [
             0.8888888888888888,
             "#000019"
            ],
            [
             1,
             "#000020"
            ]
           ]
          },
          "colorway": [
           "#000001",
           "#000002",
           "#000003",
           "#000004",
           "#000005",
           "#000006",
           "#000007",
           "#000008",
           "#000009",
           "#000010"
          ]
         }
        },
        "title": {
         "text": "Total Waste Volume by Substream"
        },
        "xaxis": {
         "title": {
          "text": "Substream"
         }
        },
        "yaxis": {
         "title": {
          "text": "Total Volume"
         }
        }
       }
      }
     },
     "metadata": {},
     "output_type": "display_data"
    }
   ],
   "source": [
    "# Group the data by Substream and calculate the total volume for each substream\n",
    "grouped_data = data.groupby('Substream')['Volume'].sum().reset_index()\n",
    "\n",
    "# Create the bar chart using Plotly\n",
    "fig = go.Figure(data=go.Bar(\n",
    "    x=grouped_data['Substream'],\n",
    "    y=grouped_data['Volume'],\n",
    "    marker=dict(color='blue')\n",
    "))\n",
    "\n",
    "# Customize the layout\n",
    "fig.update_layout(\n",
    "    title='Total Waste Volume by Substream',\n",
    "    xaxis_title='Substream',\n",
    "    yaxis_title='Total Volume')\n",
    "\n",
    "# Display the interactive bar chart\n",
    "fig.show()"
   ]
  },
  {
   "cell_type": "code",
   "execution_count": 10,
   "metadata": {},
   "outputs": [
    {
     "name": "stdout",
     "output_type": "stream",
     "text": [
      "Requirement already satisfied: pandas in /home/dhruv590/anaconda3/lib/python3.10/site-packages (1.5.3)\n",
      "Requirement already satisfied: plotly in /home/dhruv590/anaconda3/lib/python3.10/site-packages (5.9.0)\n",
      "Collecting streamlit\n",
      "  Downloading streamlit-1.22.0-py2.py3-none-any.whl (8.9 MB)\n",
      "\u001b[2K     \u001b[90m━━━━━━━━━━━━━━━━━━━━━━━━━━━━━━━━━━━━━━━━\u001b[0m \u001b[32m8.9/8.9 MB\u001b[0m \u001b[31m4.2 MB/s\u001b[0m eta \u001b[36m0:00:00\u001b[0m00:01\u001b[0m00:01\u001b[0m\n",
      "\u001b[?25hRequirement already satisfied: python-dateutil>=2.8.1 in /home/dhruv590/anaconda3/lib/python3.10/site-packages (from pandas) (2.8.2)\n",
      "Requirement already satisfied: pytz>=2020.1 in /home/dhruv590/anaconda3/lib/python3.10/site-packages (from pandas) (2022.7)\n",
      "Requirement already satisfied: numpy>=1.21.0 in /home/dhruv590/anaconda3/lib/python3.10/site-packages (from pandas) (1.23.5)\n",
      "Requirement already satisfied: tenacity>=6.2.0 in /home/dhruv590/anaconda3/lib/python3.10/site-packages (from plotly) (8.0.1)\n",
      "Requirement already satisfied: typing-extensions>=3.10.0.0 in /home/dhruv590/anaconda3/lib/python3.10/site-packages (from streamlit) (4.4.0)\n",
      "Collecting pyarrow>=4.0\n",
      "  Downloading pyarrow-12.0.0-cp310-cp310-manylinux_2_17_x86_64.manylinux2014_x86_64.whl (38.9 MB)\n",
      "\u001b[2K     \u001b[90m━━━━━━━━━━━━━━━━━━━━━━━━━━━━━━━━━━━━━━━━\u001b[0m \u001b[32m38.9/38.9 MB\u001b[0m \u001b[31m4.3 MB/s\u001b[0m eta \u001b[36m0:00:00\u001b[0m00:01\u001b[0m00:01\u001b[0m\n",
      "\u001b[?25hCollecting validators>=0.2\n",
      "  Downloading validators-0.20.0.tar.gz (30 kB)\n",
      "  Preparing metadata (setup.py) ... \u001b[?25ldone\n",
      "\u001b[?25hCollecting blinker>=1.0.0\n",
      "  Downloading blinker-1.6.2-py3-none-any.whl (13 kB)\n",
      "Requirement already satisfied: importlib-metadata>=1.4 in /home/dhruv590/anaconda3/lib/python3.10/site-packages (from streamlit) (4.11.3)\n",
      "Collecting gitpython!=3.1.19\n",
      "  Downloading GitPython-3.1.31-py3-none-any.whl (184 kB)\n",
      "\u001b[2K     \u001b[90m━━━━━━━━━━━━━━━━━━━━━━━━━━━━━━━━━━━━━━━\u001b[0m \u001b[32m184.3/184.3 kB\u001b[0m \u001b[31m2.1 MB/s\u001b[0m eta \u001b[36m0:00:00\u001b[0ma \u001b[36m0:00:01\u001b[0m\n",
      "\u001b[?25hCollecting cachetools>=4.0\n",
      "  Downloading cachetools-5.3.0-py3-none-any.whl (9.3 kB)\n",
      "Requirement already satisfied: pillow>=6.2.0 in /home/dhruv590/anaconda3/lib/python3.10/site-packages (from streamlit) (9.4.0)\n",
      "Requirement already satisfied: packaging>=14.1 in /home/dhruv590/anaconda3/lib/python3.10/site-packages (from streamlit) (22.0)\n",
      "Collecting altair<5,>=3.2.0\n",
      "  Downloading altair-4.2.2-py3-none-any.whl (813 kB)\n",
      "\u001b[2K     \u001b[90m━━━━━━━━━━━━━━━━━━━━━━━━━━━━━━━━━━━━━━━\u001b[0m \u001b[32m813.6/813.6 kB\u001b[0m \u001b[31m4.8 MB/s\u001b[0m eta \u001b[36m0:00:00\u001b[0ma \u001b[36m0:00:01\u001b[0m\n",
      "\u001b[?25hRequirement already satisfied: tornado>=6.0.3 in /home/dhruv590/anaconda3/lib/python3.10/site-packages (from streamlit) (6.1)\n",
      "Collecting protobuf<4,>=3.12\n",
      "  Downloading protobuf-3.20.3-cp310-cp310-manylinux_2_12_x86_64.manylinux2010_x86_64.whl (1.1 MB)\n",
      "\u001b[2K     \u001b[90m━━━━━━━━━━━━━━━━━━━━━━━━━━━━━━━━━━━━━━━━\u001b[0m \u001b[32m1.1/1.1 MB\u001b[0m \u001b[31m5.2 MB/s\u001b[0m eta \u001b[36m0:00:00\u001b[0ma \u001b[36m0:00:01\u001b[0m\n",
      "\u001b[?25hCollecting pydeck>=0.1.dev5\n",
      "  Downloading pydeck-0.8.1b0-py2.py3-none-any.whl (4.8 MB)\n",
      "\u001b[2K     \u001b[90m━━━━━━━━━━━━━━━━━━━━━━━━━━━━━━━━━━━━━━━━\u001b[0m \u001b[32m4.8/4.8 MB\u001b[0m \u001b[31m3.8 MB/s\u001b[0m eta \u001b[36m0:00:00\u001b[0m00:01\u001b[0m00:01\u001b[0m\n",
      "\u001b[?25hRequirement already satisfied: click>=7.0 in /home/dhruv590/anaconda3/lib/python3.10/site-packages (from streamlit) (8.0.4)\n",
      "Requirement already satisfied: watchdog in /home/dhruv590/anaconda3/lib/python3.10/site-packages (from streamlit) (2.1.6)\n",
      "Requirement already satisfied: requests>=2.4 in /home/dhruv590/anaconda3/lib/python3.10/site-packages (from streamlit) (2.28.1)\n",
      "Collecting tzlocal>=1.1\n",
      "  Downloading tzlocal-5.0.1-py3-none-any.whl (20 kB)\n",
      "Collecting rich>=10.11.0\n",
      "  Downloading rich-13.3.5-py3-none-any.whl (238 kB)\n",
      "\u001b[2K     \u001b[90m━━━━━━━━━━━━━━━━━━━━━━━━━━━━━━━━━━━━━━━\u001b[0m \u001b[32m238.7/238.7 kB\u001b[0m \u001b[31m4.6 MB/s\u001b[0m eta \u001b[36m0:00:00\u001b[0ma \u001b[36m0:00:01\u001b[0m\n",
      "\u001b[?25hCollecting pympler>=0.9\n",
      "  Downloading Pympler-1.0.1-py3-none-any.whl (164 kB)\n",
      "\u001b[2K     \u001b[90m━━━━━━━━━━━━━━━━━━━━━━━━━━━━━━━━━━━━━━━\u001b[0m \u001b[32m164.8/164.8 kB\u001b[0m \u001b[31m4.3 MB/s\u001b[0m eta \u001b[36m0:00:00\u001b[0m00:01\u001b[0m\n",
      "\u001b[?25hRequirement already satisfied: toml in /home/dhruv590/anaconda3/lib/python3.10/site-packages (from streamlit) (0.10.2)\n",
      "Requirement already satisfied: jsonschema>=3.0 in /home/dhruv590/anaconda3/lib/python3.10/site-packages (from altair<5,>=3.2.0->streamlit) (4.17.3)\n",
      "Requirement already satisfied: entrypoints in /home/dhruv590/anaconda3/lib/python3.10/site-packages (from altair<5,>=3.2.0->streamlit) (0.4)\n",
      "Requirement already satisfied: toolz in /home/dhruv590/anaconda3/lib/python3.10/site-packages (from altair<5,>=3.2.0->streamlit) (0.12.0)\n",
      "Requirement already satisfied: jinja2 in /home/dhruv590/anaconda3/lib/python3.10/site-packages (from altair<5,>=3.2.0->streamlit) (3.1.2)\n",
      "Collecting gitdb<5,>=4.0.1\n",
      "  Downloading gitdb-4.0.10-py3-none-any.whl (62 kB)\n",
      "\u001b[2K     \u001b[90m━━━━━━━━━━━━━━━━━━━━━━━━━━━━━━━━━━━━━━━━\u001b[0m \u001b[32m62.7/62.7 kB\u001b[0m \u001b[31m6.3 MB/s\u001b[0m eta \u001b[36m0:00:00\u001b[0m\n",
      "\u001b[?25hRequirement already satisfied: zipp>=0.5 in /home/dhruv590/anaconda3/lib/python3.10/site-packages (from importlib-metadata>=1.4->streamlit) (3.11.0)\n",
      "Requirement already satisfied: six>=1.5 in /home/dhruv590/anaconda3/lib/python3.10/site-packages (from python-dateutil>=2.8.1->pandas) (1.16.0)\n",
      "Requirement already satisfied: certifi>=2017.4.17 in /home/dhruv590/anaconda3/lib/python3.10/site-packages (from requests>=2.4->streamlit) (2022.12.7)\n",
      "Requirement already satisfied: idna<4,>=2.5 in /home/dhruv590/anaconda3/lib/python3.10/site-packages (from requests>=2.4->streamlit) (3.4)\n",
      "Requirement already satisfied: urllib3<1.27,>=1.21.1 in /home/dhruv590/anaconda3/lib/python3.10/site-packages (from requests>=2.4->streamlit) (1.26.14)\n",
      "Requirement already satisfied: charset-normalizer<3,>=2 in /home/dhruv590/anaconda3/lib/python3.10/site-packages (from requests>=2.4->streamlit) (2.0.4)\n",
      "Collecting markdown-it-py<3.0.0,>=2.2.0\n",
      "  Downloading markdown_it_py-2.2.0-py3-none-any.whl (84 kB)\n",
      "\u001b[2K     \u001b[90m━━━━━━━━━━━━━━━━━━━━━━━━━━━━━━━━━━━━━━━━\u001b[0m \u001b[32m84.5/84.5 kB\u001b[0m \u001b[31m6.8 MB/s\u001b[0m eta \u001b[36m0:00:00\u001b[0m\n",
      "\u001b[?25hCollecting pygments<3.0.0,>=2.13.0\n",
      "  Downloading Pygments-2.15.1-py3-none-any.whl (1.1 MB)\n",
      "\u001b[2K     \u001b[90m━━━━━━━━━━━━━━━━━━━━━━━━━━━━━━━━━━━━━━━━\u001b[0m \u001b[32m1.1/1.1 MB\u001b[0m \u001b[31m4.1 MB/s\u001b[0m eta \u001b[36m0:00:00\u001b[0m00:01\u001b[0m00:01\u001b[0m\n",
      "\u001b[?25hRequirement already satisfied: decorator>=3.4.0 in /home/dhruv590/anaconda3/lib/python3.10/site-packages (from validators>=0.2->streamlit) (5.1.1)\n",
      "Collecting smmap<6,>=3.0.1\n",
      "  Downloading smmap-5.0.0-py3-none-any.whl (24 kB)\n",
      "Requirement already satisfied: MarkupSafe>=2.0 in /home/dhruv590/anaconda3/lib/python3.10/site-packages (from jinja2->altair<5,>=3.2.0->streamlit) (2.1.1)\n",
      "Requirement already satisfied: attrs>=17.4.0 in /home/dhruv590/anaconda3/lib/python3.10/site-packages (from jsonschema>=3.0->altair<5,>=3.2.0->streamlit) (22.1.0)\n",
      "Requirement already satisfied: pyrsistent!=0.17.0,!=0.17.1,!=0.17.2,>=0.14.0 in /home/dhruv590/anaconda3/lib/python3.10/site-packages (from jsonschema>=3.0->altair<5,>=3.2.0->streamlit) (0.18.0)\n",
      "Collecting mdurl~=0.1\n",
      "  Downloading mdurl-0.1.2-py3-none-any.whl (10.0 kB)\n",
      "Building wheels for collected packages: validators\n",
      "  Building wheel for validators (setup.py) ... \u001b[?25ldone\n",
      "\u001b[?25h  Created wheel for validators: filename=validators-0.20.0-py3-none-any.whl size=19581 sha256=26536c1079344883fe81cd818f45307eb434670fe7d4d8d430db0dce417213b7\n",
      "  Stored in directory: /home/dhruv590/.cache/pip/wheels/2d/55/25/123071088f4e466746cbadc923b1a31e08cea99ea9ef6bb35e\n",
      "Successfully built validators\n",
      "Installing collected packages: validators, tzlocal, smmap, pympler, pygments, pyarrow, protobuf, mdurl, cachetools, blinker, pydeck, markdown-it-py, gitdb, rich, gitpython, altair, streamlit\n",
      "  Attempting uninstall: pygments\n",
      "    Found existing installation: Pygments 2.11.2\n",
      "    Uninstalling Pygments-2.11.2:\n",
      "      Successfully uninstalled Pygments-2.11.2\n",
      "\u001b[31mERROR: pip's dependency resolver does not currently take into account all the packages that are installed. This behaviour is the source of the following dependency conflicts.\n",
      "spyder 5.4.1 requires pyqt5<5.16, which is not installed.\n",
      "spyder 5.4.1 requires pyqtwebengine<5.16, which is not installed.\u001b[0m\u001b[31m\n",
      "\u001b[0mSuccessfully installed altair-4.2.2 blinker-1.6.2 cachetools-5.3.0 gitdb-4.0.10 gitpython-3.1.31 markdown-it-py-2.2.0 mdurl-0.1.2 protobuf-3.20.3 pyarrow-12.0.0 pydeck-0.8.1b0 pygments-2.15.1 pympler-1.0.1 rich-13.3.5 smmap-5.0.0 streamlit-1.22.0 tzlocal-5.0.1 validators-0.20.0\n",
      "Note: you may need to restart the kernel to use updated packages.\n"
     ]
    }
   ],
   "source": [
    "pip install pandas plotly streamlit"
   ]
  },
  {
   "cell_type": "code",
   "execution_count": 6,
   "metadata": {},
   "outputs": [
    {
     "data": {
      "application/vnd.plotly.v1+json": {
       "config": {
        "plotlyServerURL": "https://plot.ly"
       },
       "data": [
        {
         "colorscale": [
          [
           0,
           "#440154"
          ],
          [
           0.1111111111111111,
           "#482878"
          ],
          [
           0.2222222222222222,
           "#3e4989"
          ],
          [
           0.3333333333333333,
           "#31688e"
          ],
          [
           0.4444444444444444,
           "#26828e"
          ],
          [
           0.5555555555555556,
           "#1f9e89"
          ],
          [
           0.6666666666666666,
           "#35b779"
          ],
          [
           0.7777777777777778,
           "#6ece58"
          ],
          [
           0.8888888888888888,
           "#b5de2b"
          ],
          [
           1,
           "#fde725"
          ]
         ],
         "type": "heatmap",
         "x": [
          "Aseptic Containers",
          "Aseptic/Tetra-Pak",
          "BPI Certified Compostable To-Go Ware",
          "Cardboard",
          "Compostable Dining Waste (non-edible)",
          "Compostable Food Containers",
          "Const/Demo Waste",
          "E-/Universal Waste",
          "Electronic & Universal Waste",
          "Film Plastic",
          "Food Waste (edible)",
          "Food/Organic Waste",
          "Glass",
          "Metal",
          "Metal & Aluminum",
          "Misc. Landfill",
          "Misc. Meal Waste",
          "Napkins/Paper Towels",
          "Non-SCU Coffee Cups",
          "Other Landfill",
          "Paper",
          "Paper Towels",
          "Paperboard",
          "Paperboard Rolls",
          "Plastic 1-7",
          "Plastic Film",
          "Plastics #1-7",
          "Reusables",
          "SCU Coffee Cups",
          "Styrofoam",
          "Terracycle",
          "aseptic containers",
          "cardboard",
          "glass",
          "metal",
          "paper",
          "paper towels",
          "paperboard rolls",
          "reusables",
          "styrofoam",
          "terracycle"
         ],
         "y": [
          "1/21/2020",
          "1/26/2018",
          "10/4/2017",
          "11/14/2016",
          "11/16/2015",
          "2/11/2016",
          "2/9/2016",
          "2/9/2018",
          "3/13/2017",
          "3/14/2023",
          "4/27/2016",
          "4/27/2017",
          "4/30/2015",
          "5/15/2018",
          "5/4/2016",
          "5/5/2015",
          "5/8/2019",
          "9/1/2015",
          "9/16/2016"
         ],
         "z": [
          [
           0.1,
           null,
           null,
           0.5,
           1.5,
           null,
           0.1,
           0.05,
           null,
           null,
           0.3,
           null,
           0.1,
           0.5,
           null,
           null,
           0.25,
           null,
           0.75,
           3,
           0.5,
           1,
           null,
           null,
           1,
           0.1,
           null,
           0.3,
           0.75,
           0.1,
           0.1,
           null,
           null,
           null,
           null,
           null,
           null,
           null,
           null,
           null,
           null
          ],
          [
           null,
           null,
           null,
           null,
           null,
           1.75,
           null,
           0.1,
           null,
           null,
           null,
           null,
           0.1,
           0.25,
           null,
           null,
           0.5800000000000001,
           null,
           null,
           2,
           2,
           2.25,
           null,
           0.25,
           2,
           1,
           null,
           0.1,
           null,
           0.1,
           0.43000000000000005,
           null,
           null,
           null,
           null,
           null,
           null,
           null,
           null,
           null,
           null
          ],
          [
           null,
           null,
           null,
           null,
           null,
           1.33,
           null,
           0.01,
           null,
           null,
           null,
           null,
           null,
           0.01,
           null,
           null,
           0.22,
           null,
           null,
           1.36,
           0.2,
           null,
           null,
           0.2,
           5.51,
           2.26,
           null,
           0.66,
           null,
           null,
           0.2,
           0.13,
           4.5,
           0.45,
           0.5,
           1.01,
           1.25,
           null,
           0.51,
           null,
           0.01
          ],
          [
           0.2,
           null,
           null,
           1,
           null,
           1.35,
           0.05,
           0.1,
           null,
           null,
           null,
           null,
           null,
           0.53,
           null,
           null,
           0.25,
           null,
           null,
           1.4100000000000001,
           0.7,
           3.66,
           null,
           0.4,
           2.2,
           1.35,
           null,
           0.2,
           null,
           null,
           0.25,
           null,
           null,
           null,
           null,
           null,
           null,
           null,
           null,
           null,
           null
          ],
          [
           null,
           null,
           null,
           null,
           null,
           2,
           null,
           null,
           null,
           null,
           null,
           null,
           null,
           null,
           null,
           null,
           0.33,
           null,
           null,
           0.89,
           null,
           null,
           null,
           null,
           0.8,
           1,
           null,
           null,
           null,
           null,
           null,
           0.8,
           1.33,
           0.03,
           0.33,
           0.75,
           0.33,
           null,
           0.06,
           null,
           0.03
          ],
          [
           null,
           null,
           null,
           1.33,
           null,
           1.75,
           null,
           null,
           null,
           null,
           null,
           null,
           0.06,
           0.25,
           null,
           null,
           0.25,
           null,
           null,
           0.5,
           1.13,
           1.25,
           null,
           0.01,
           1.6,
           1,
           null,
           0.75,
           null,
           null,
           0.25,
           null,
           null,
           null,
           null,
           null,
           null,
           null,
           null,
           null,
           null
          ],
          [
           null,
           null,
           null,
           null,
           null,
           2,
           0.17,
           null,
           null,
           null,
           null,
           null,
           null,
           null,
           null,
           null,
           0.5800000000000001,
           null,
           null,
           0.8,
           null,
           null,
           null,
           null,
           2.29,
           2.75,
           null,
           null,
           null,
           null,
           null,
           null,
           3,
           0.25,
           0.75,
           2,
           0.5,
           null,
           0.17,
           null,
           0.03
          ],
          [
           0.05,
           null,
           null,
           1,
           null,
           3.25,
           null,
           0.05,
           null,
           null,
           null,
           null,
           0.25,
           0.25,
           null,
           null,
           0.33,
           null,
           null,
           1.13,
           2.05,
           0.75,
           null,
           null,
           3.75,
           null,
           null,
           0.25,
           null,
           0.25,
           0.05,
           null,
           null,
           null,
           null,
           null,
           null,
           null,
           null,
           null,
           null
          ],
          [
           0.1,
           null,
           null,
           0.75,
           null,
           1.5,
           null,
           0.1,
           null,
           null,
           null,
           null,
           0.1,
           0.33,
           null,
           null,
           0.66,
           null,
           null,
           1.6,
           1.67,
           1,
           null,
           0.1,
           2.75,
           1.67,
           null,
           0.1,
           null,
           null,
           0.1,
           null,
           null,
           null,
           null,
           null,
           null,
           null,
           null,
           null,
           null
          ],
          [
           null,
           0,
           0.7,
           1.3,
           null,
           null,
           null,
           null,
           0,
           0.5,
           null,
           0.5,
           0.3,
           null,
           0.5,
           2.5,
           null,
           0.3,
           null,
           null,
           1.5,
           null,
           1,
           null,
           null,
           null,
           3,
           0.25,
           null,
           0,
           0,
           null,
           null,
           null,
           null,
           null,
           null,
           null,
           null,
           null,
           null
          ],
          [
           null,
           null,
           null,
           null,
           null,
           1,
           null,
           null,
           null,
           null,
           null,
           null,
           null,
           null,
           null,
           null,
           0.33,
           null,
           null,
           0.75,
           null,
           null,
           null,
           null,
           0.5,
           1,
           null,
           null,
           null,
           null,
           null,
           0.33,
           0.5,
           0.03,
           0.33,
           0.33,
           0.25,
           null,
           0.13,
           null,
           null
          ],
          [
           null,
           null,
           null,
           null,
           null,
           3.5,
           null,
           0.25,
           null,
           null,
           null,
           null,
           null,
           null,
           null,
           null,
           1.58,
           null,
           null,
           1.5,
           null,
           null,
           null,
           null,
           2.08,
           2.5,
           null,
           null,
           null,
           null,
           null,
           0.33,
           2,
           0.1,
           0.75,
           2,
           0.75,
           null,
           1,
           null,
           0.01
          ],
          [
           null,
           null,
           null,
           null,
           null,
           3,
           null,
           null,
           null,
           null,
           null,
           null,
           null,
           null,
           null,
           null,
           1.74,
           null,
           null,
           1,
           null,
           null,
           null,
           null,
           0.5,
           2,
           null,
           null,
           null,
           null,
           null,
           0.5,
           1,
           0.1,
           0.33,
           1,
           0.5,
           null,
           0.1,
           0.1,
           0.1
          ],
          [
           null,
           null,
           null,
           3.5,
           null,
           2.08,
           0.25,
           0.1,
           null,
           null,
           null,
           null,
           0.25,
           0.4,
           null,
           null,
           0.6,
           null,
           null,
           2.04,
           2.46,
           1.8800000000000001,
           null,
           0.05,
           2.62,
           2.62,
           null,
           0.6,
           null,
           0.15000000000000002,
           null,
           null,
           null,
           null,
           null,
           null,
           null,
           null,
           null,
           null,
           null
          ],
          [
           0.06,
           null,
           null,
           1,
           null,
           2,
           null,
           0.03,
           null,
           null,
           null,
           null,
           0.33,
           0.33,
           null,
           null,
           0.8300000000000001,
           null,
           null,
           1,
           0.75,
           0.25,
           null,
           0.13,
           2,
           1,
           null,
           0.03,
           null,
           null,
           0.04,
           null,
           null,
           null,
           null,
           null,
           null,
           null,
           null,
           null,
           null
          ],
          [
           0.1,
           null,
           null,
           0.75,
           null,
           2,
           null,
           0.01,
           null,
           null,
           null,
           null,
           0.1,
           0.13,
           null,
           null,
           0.53,
           null,
           null,
           2.67,
           2,
           1.67,
           null,
           0.1,
           2,
           1.75,
           null,
           0.33,
           null,
           0.01,
           0.25,
           null,
           null,
           null,
           null,
           null,
           null,
           null,
           null,
           null,
           null
          ],
          [
           0,
           null,
           null,
           0,
           0,
           0,
           0,
           0,
           null,
           null,
           0,
           null,
           0,
           0,
           null,
           null,
           null,
           null,
           0,
           0,
           0,
           0,
           null,
           null,
           0,
           0,
           null,
           null,
           0,
           0,
           0,
           null,
           null,
           null,
           null,
           null,
           null,
           null,
           null,
           null,
           null
          ],
          [
           null,
           null,
           null,
           null,
           null,
           1.42,
           0.1,
           0.1,
           null,
           null,
           null,
           null,
           null,
           null,
           null,
           null,
           0.30000000000000004,
           null,
           null,
           1.23,
           null,
           null,
           null,
           null,
           2.8000000000000003,
           1.6,
           null,
           null,
           null,
           null,
           null,
           0.33,
           3.33,
           0.2,
           0.46,
           1.1,
           2.3200000000000003,
           0.2,
           0.33,
           null,
           0.30000000000000004
          ],
          [
           null,
           null,
           null,
           null,
           null,
           1.5,
           0.05,
           0.1,
           null,
           null,
           null,
           null,
           null,
           null,
           null,
           null,
           0.26,
           null,
           null,
           2.58,
           null,
           null,
           null,
           null,
           2.75,
           2.33,
           null,
           null,
           null,
           null,
           null,
           0.14,
           2.33,
           0.18,
           0.43000000000000005,
           1.75,
           6.5,
           0.37,
           0.5,
           null,
           0.30000000000000004
          ]
         ]
        }
       ],
       "layout": {
        "template": {
         "data": {
          "candlestick": [
           {
            "decreasing": {
             "line": {
              "color": "#000033"
             }
            },
            "increasing": {
             "line": {
              "color": "#000032"
             }
            },
            "type": "candlestick"
           }
          ],
          "contour": [
           {
            "colorscale": [
             [
              0,
              "#000011"
             ],
             [
              0.1111111111111111,
              "#000012"
             ],
             [
              0.2222222222222222,
              "#000013"
             ],
             [
              0.3333333333333333,
              "#000014"
             ],
             [
              0.4444444444444444,
              "#000015"
             ],
             [
              0.5555555555555556,
              "#000016"
             ],
             [
              0.6666666666666666,
              "#000017"
             ],
             [
              0.7777777777777778,
              "#000018"
             ],
             [
              0.8888888888888888,
              "#000019"
             ],
             [
              1,
              "#000020"
             ]
            ],
            "type": "contour"
           }
          ],
          "contourcarpet": [
           {
            "colorscale": [
             [
              0,
              "#000011"
             ],
             [
              0.1111111111111111,
              "#000012"
             ],
             [
              0.2222222222222222,
              "#000013"
             ],
             [
              0.3333333333333333,
              "#000014"
             ],
             [
              0.4444444444444444,
              "#000015"
             ],
             [
              0.5555555555555556,
              "#000016"
             ],
             [
              0.6666666666666666,
              "#000017"
             ],
             [
              0.7777777777777778,
              "#000018"
             ],
             [
              0.8888888888888888,
              "#000019"
             ],
             [
              1,
              "#000020"
             ]
            ],
            "type": "contourcarpet"
           }
          ],
          "heatmap": [
           {
            "colorscale": [
             [
              0,
              "#000011"
             ],
             [
              0.1111111111111111,
              "#000012"
             ],
             [
              0.2222222222222222,
              "#000013"
             ],
             [
              0.3333333333333333,
              "#000014"
             ],
             [
              0.4444444444444444,
              "#000015"
             ],
             [
              0.5555555555555556,
              "#000016"
             ],
             [
              0.6666666666666666,
              "#000017"
             ],
             [
              0.7777777777777778,
              "#000018"
             ],
             [
              0.8888888888888888,
              "#000019"
             ],
             [
              1,
              "#000020"
             ]
            ],
            "type": "heatmap"
           }
          ],
          "histogram2d": [
           {
            "colorscale": [
             [
              0,
              "#000011"
             ],
             [
              0.1111111111111111,
              "#000012"
             ],
             [
              0.2222222222222222,
              "#000013"
             ],
             [
              0.3333333333333333,
              "#000014"
             ],
             [
              0.4444444444444444,
              "#000015"
             ],
             [
              0.5555555555555556,
              "#000016"
             ],
             [
              0.6666666666666666,
              "#000017"
             ],
             [
              0.7777777777777778,
              "#000018"
             ],
             [
              0.8888888888888888,
              "#000019"
             ],
             [
              1,
              "#000020"
             ]
            ],
            "type": "histogram2d"
           }
          ],
          "icicle": [
           {
            "textfont": {
             "color": "white"
            },
            "type": "icicle"
           }
          ],
          "sankey": [
           {
            "textfont": {
             "color": "#000036"
            },
            "type": "sankey"
           }
          ],
          "scatter": [
           {
            "marker": {
             "line": {
              "width": 0
             }
            },
            "type": "scatter"
           }
          ],
          "table": [
           {
            "cells": {
             "fill": {
              "color": "#000038"
             },
             "font": {
              "color": "#000037"
             },
             "line": {
              "color": "#000039"
             }
            },
            "header": {
             "fill": {
              "color": "#000040"
             },
             "font": {
              "color": "#000036"
             },
             "line": {
              "color": "#000039"
             }
            },
            "type": "table"
           }
          ],
          "waterfall": [
           {
            "connector": {
             "line": {
              "color": "#000036",
              "width": 2
             }
            },
            "decreasing": {
             "marker": {
              "color": "#000033"
             }
            },
            "increasing": {
             "marker": {
              "color": "#000032"
             }
            },
            "totals": {
             "marker": {
              "color": "#000034"
             }
            },
            "type": "waterfall"
           }
          ]
         },
         "layout": {
          "coloraxis": {
           "colorscale": [
            [
             0,
             "#000011"
            ],
            [
             0.1111111111111111,
             "#000012"
            ],
            [
             0.2222222222222222,
             "#000013"
            ],
            [
             0.3333333333333333,
             "#000014"
            ],
            [
             0.4444444444444444,
             "#000015"
            ],
            [
             0.5555555555555556,
             "#000016"
            ],
            [
             0.6666666666666666,
             "#000017"
            ],
            [
             0.7777777777777778,
             "#000018"
            ],
            [
             0.8888888888888888,
             "#000019"
            ],
            [
             1,
             "#000020"
            ]
           ]
          },
          "colorscale": {
           "diverging": [
            [
             0,
             "#000021"
            ],
            [
             0.1,
             "#000022"
            ],
            [
             0.2,
             "#000023"
            ],
            [
             0.3,
             "#000024"
            ],
            [
             0.4,
             "#000025"
            ],
            [
             0.5,
             "#000026"
            ],
            [
             0.6,
             "#000027"
            ],
            [
             0.7,
             "#000028"
            ],
            [
             0.8,
             "#000029"
            ],
            [
             0.9,
             "#000030"
            ],
            [
             1,
             "#000031"
            ]
           ],
           "sequential": [
            [
             0,
             "#000011"
            ],
            [
             0.1111111111111111,
             "#000012"
            ],
            [
             0.2222222222222222,
             "#000013"
            ],
            [
             0.3333333333333333,
             "#000014"
            ],
            [
             0.4444444444444444,
             "#000015"
            ],
            [
             0.5555555555555556,
             "#000016"
            ],
            [
             0.6666666666666666,
             "#000017"
            ],
            [
             0.7777777777777778,
             "#000018"
            ],
            [
             0.8888888888888888,
             "#000019"
            ],
            [
             1,
             "#000020"
            ]
           ],
           "sequentialminus": [
            [
             0,
             "#000011"
            ],
            [
             0.1111111111111111,
             "#000012"
            ],
            [
             0.2222222222222222,
             "#000013"
            ],
            [
             0.3333333333333333,
             "#000014"
            ],
            [
             0.4444444444444444,
             "#000015"
            ],
            [
             0.5555555555555556,
             "#000016"
            ],
            [
             0.6666666666666666,
             "#000017"
            ],
            [
             0.7777777777777778,
             "#000018"
            ],
            [
             0.8888888888888888,
             "#000019"
            ],
            [
             1,
             "#000020"
            ]
           ]
          },
          "colorway": [
           "#000001",
           "#000002",
           "#000003",
           "#000004",
           "#000005",
           "#000006",
           "#000007",
           "#000008",
           "#000009",
           "#000010"
          ]
         }
        },
        "title": {
         "text": "Waste Volume Heatmap"
        },
        "xaxis": {
         "title": {
          "text": "Substream"
         }
        },
        "yaxis": {
         "title": {
          "text": "Date"
         }
        }
       }
      }
     },
     "metadata": {},
     "output_type": "display_data"
    },
    {
     "name": "stderr",
     "output_type": "stream",
     "text": [
      "2023-05-21 12:55:23.011 \n",
      "  \u001b[33m\u001b[1mWarning:\u001b[0m to view this Streamlit app on a browser, run it with the following\n",
      "  command:\n",
      "\n",
      "    streamlit run /home/dhruv590/anaconda3/lib/python3.10/site-packages/ipykernel_launcher.py [ARGUMENTS]\n"
     ]
    },
    {
     "data": {
      "text/plain": [
       "DeltaGenerator()"
      ]
     },
     "execution_count": 6,
     "metadata": {},
     "output_type": "execute_result"
    }
   ],
   "source": [
    "# Create the interactive heat map using Plotly\n",
    "fig_heatmap = go.Figure(data=go.Heatmap(\n",
    "    z=pivot_table.values,\n",
    "    x=pivot_table.columns,\n",
    "    y=pivot_table.index,\n",
    "    colorscale='Viridis'))\n",
    "\n",
    "# Customize the layout\n",
    "fig_heatmap.update_layout(\n",
    "    title='Waste Volume Heatmap',\n",
    "    xaxis_title='Substream',\n",
    "    yaxis_title='Date')\n",
    "\n",
    "# Display the interactive heatmap\n",
    "fig_heatmap.show()\n",
    "\n",
    "# Create the interactive bar chart using Plotly\n",
    "fig_barchart = go.Figure(data=go.Bar(\n",
    "    x=grouped_data['Substream'],\n",
    "    y=grouped_data['Volume'],\n",
    "    marker=dict(color='blue')))\n",
    "\n",
    "# Set up the Streamlit app\n",
    "st.title('Waste Analysis')\n",
    "st.header('Interactive Heat Map')\n",
    "st.plotly_chart(fig_heatmap)\n",
    "\n",
    "st.header('Interactive Bar Chart')\n",
    "st.plotly_chart(fig_barchart)"
   ]
  },
  {
   "cell_type": "code",
   "execution_count": null,
   "metadata": {},
   "outputs": [],
   "source": []
  }
 ],
 "metadata": {
  "kernelspec": {
   "display_name": "Python 3 (ipykernel)",
   "language": "python",
   "name": "python3"
  },
  "language_info": {
   "codemirror_mode": {
    "name": "ipython",
    "version": 3
   },
   "file_extension": ".py",
   "mimetype": "text/x-python",
   "name": "python",
   "nbconvert_exporter": "python",
   "pygments_lexer": "ipython3",
   "version": "3.9.13"
  }
 },
 "nbformat": 4,
 "nbformat_minor": 2
}
